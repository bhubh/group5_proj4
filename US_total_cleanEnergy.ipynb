{
 "cells": [
  {
   "cell_type": "markdown",
   "metadata": {},
   "source": [
    "#### In this file production, consumption and other related features for renewable energy for united states will be created. "
   ]
  },
  {
   "cell_type": "code",
   "execution_count": null,
   "metadata": {},
   "outputs": [],
   "source": [
    "#importing dependencies\n",
    "import pandas as pd\n",
    "import numpy as np\n",
    "import matplotlib.pyplot as plt"
   ]
  },
  {
   "cell_type": "code",
   "execution_count": null,
   "metadata": {
    "scrolled": true
   },
   "outputs": [],
   "source": [
    "#importing data from excel into dataframe\n",
    "us_energy_df = pd.read_excel(\"Resources/Total_Renewable_energy.xlsx\")\n",
    "us_energy_df.head()"
   ]
  },
  {
   "cell_type": "code",
   "execution_count": null,
   "metadata": {
    "scrolled": true
   },
   "outputs": [],
   "source": [
    "#filter the data with StateCode 'US' and MSN code 'REPRB' for renewable energy\n",
    "us_only_df = us_energy_df.loc[(us_energy_df[\"StateCode\"] ==\"US\") & \n",
    "                              (us_energy_df[\"MSN\"] ==\"REPRB\")]\n",
    "us_only_df.head()"
   ]
  },
  {
   "cell_type": "code",
   "execution_count": null,
   "metadata": {
    "scrolled": true
   },
   "outputs": [],
   "source": [
    "#remove columns that won't be used\n",
    "us_production_df = us_only_df.drop([\"Data_Status\", \"StateCode\", \"MSN\"], axis = 1)\n",
    "us_production_df.head()"
   ]
  },
  {
   "cell_type": "code",
   "execution_count": null,
   "metadata": {},
   "outputs": [],
   "source": [
    "#convert rows into columns\n",
    "us_df_pr = us_production_df.melt(var_name = \"Year\", value_name = \"Renewable energy production in billion (BTU)\")\n",
    "us_df_pr.head()"
   ]
  },
  {
   "cell_type": "code",
   "execution_count": null,
   "metadata": {
    "scrolled": true
   },
   "outputs": [],
   "source": [
    "us_df_pr.shape"
   ]
  },
  {
   "cell_type": "markdown",
   "metadata": {},
   "source": [
    "## extracting consumption data"
   ]
  },
  {
   "cell_type": "code",
   "execution_count": null,
   "metadata": {
    "scrolled": true
   },
   "outputs": [],
   "source": [
    "##filter the data with StateCode 'US' and MSN code 'TETCB' for renewable energy\n",
    "us_consumption_df = us_energy_df.loc[(us_energy_df[\"StateCode\"] ==\"US\") & \n",
    "                              (us_energy_df[\"MSN\"] ==\"TETCB\")]\n",
    "us_consumption_df.head()"
   ]
  },
  {
   "cell_type": "code",
   "execution_count": null,
   "metadata": {
    "scrolled": false
   },
   "outputs": [],
   "source": [
    "#remove columns that won't be used\n",
    "us_con_df = us_consumption_df.drop([\"Data_Status\", \"StateCode\", \"MSN\"], axis = 1)\n",
    "us_con_df.head()"
   ]
  },
  {
   "cell_type": "code",
   "execution_count": null,
   "metadata": {
    "scrolled": true
   },
   "outputs": [],
   "source": [
    "#convert rows into columns\n",
    "us_dfc = us_con_df.melt(var_name = \"Year\", value_name = \"Total energy consumption in billion (BTU)\")\n",
    "us_dfc.head()"
   ]
  },
  {
   "cell_type": "code",
   "execution_count": null,
   "metadata": {
    "scrolled": true
   },
   "outputs": [],
   "source": [
    "us_dfc.shape"
   ]
  },
  {
   "cell_type": "markdown",
   "metadata": {},
   "source": [
    "### Extracting population and GDP"
   ]
  },
  {
   "cell_type": "code",
   "execution_count": null,
   "metadata": {},
   "outputs": [],
   "source": [
    "#importing data from excel into dataframe\n",
    "\n",
    "xls = pd.ExcelFile('Resources/Total_Population.xlsx')\n",
    "population_df = pd.read_excel(xls, 'Total Population')\n",
    "gdp_df = pd.read_excel(xls, 'Real GDP')\n"
   ]
  },
  {
   "cell_type": "code",
   "execution_count": null,
   "metadata": {
    "scrolled": true
   },
   "outputs": [],
   "source": [
    "population_df.head()"
   ]
  },
  {
   "cell_type": "code",
   "execution_count": null,
   "metadata": {
    "scrolled": false
   },
   "outputs": [],
   "source": [
    "#setting years as header for pupulation data \n",
    "new_header = population_df.iloc[1]\n",
    "population_df1 = population_df[2:]\n",
    "population_df1.columns = new_header\n",
    "population_df1.head()\n",
    "\n",
    "\n"
   ]
  },
  {
   "cell_type": "code",
   "execution_count": null,
   "metadata": {
    "scrolled": true
   },
   "outputs": [],
   "source": [
    "##filter data for us pupulation\n",
    "us_population_df = population_df1.loc[(population_df1[\"State\"] ==\"US\")]\n",
    "us_population_df = us_population_df.drop(\"State\",axis = 1)\n",
    "us_population_df.head()"
   ]
  },
  {
   "cell_type": "code",
   "execution_count": null,
   "metadata": {
    "scrolled": true
   },
   "outputs": [],
   "source": [
    "#convert rows into column\n",
    "us_dfp = us_population_df.melt(var_name = \"Year\", value_name = \"Total Population in Thousands\")\n",
    "us_dfp.head()"
   ]
  },
  {
   "cell_type": "code",
   "execution_count": null,
   "metadata": {},
   "outputs": [],
   "source": [
    "#Creating GDP data\n",
    "gdp_df.head()"
   ]
  },
  {
   "cell_type": "code",
   "execution_count": null,
   "metadata": {
    "scrolled": true
   },
   "outputs": [],
   "source": [
    "#setting years as header for GDP data \n",
    "new_header1 = gdp_df.iloc[1]\n",
    "gdp_df1 = gdp_df[2:]\n",
    "gdp_df1.columns = new_header1\n",
    "gdp_df1.head()\n"
   ]
  },
  {
   "cell_type": "code",
   "execution_count": null,
   "metadata": {
    "scrolled": true
   },
   "outputs": [],
   "source": [
    "##filter data for us gdp\n",
    "us_gdp_df = gdp_df1.loc[(gdp_df1[\"State\"] ==\"US\")]\n",
    "us_gdp_df = us_gdp_df.drop(\"State\",axis = 1)\n",
    "us_gdp_df.head()"
   ]
  },
  {
   "cell_type": "code",
   "execution_count": null,
   "metadata": {
    "scrolled": true
   },
   "outputs": [],
   "source": [
    "#convert rows into column\n",
    "us_dfg = us_gdp_df.melt(var_name = \"Year\", value_name = \" US GDP in Million\")\n",
    "us_dfg.head()"
   ]
  },
  {
   "cell_type": "code",
   "execution_count": null,
   "metadata": {},
   "outputs": [],
   "source": [
    "#Extracting and adding energy price data for US\n",
    "xls = pd.ExcelFile('Resources/Total_Prices.xlsx')\n",
    "prices_df = pd.read_excel(xls, 'Prices')\n",
    "prices_df.head()"
   ]
  },
  {
   "cell_type": "code",
   "execution_count": null,
   "metadata": {
    "scrolled": true
   },
   "outputs": [],
   "source": [
    "#setting years as header for Price data \n",
    "new_header2 = prices_df.iloc[1]\n",
    "prices_df1 = prices_df[2:]\n",
    "prices_df1.columns = new_header2\n",
    "population_df1.head()"
   ]
  },
  {
   "cell_type": "code",
   "execution_count": null,
   "metadata": {
    "scrolled": true
   },
   "outputs": [],
   "source": [
    "##filter data for average price for US\n",
    "us_prices_df = prices_df1.loc[(prices_df1[\"State\"] ==\"US\")]\n",
    "us_prices_df = us_prices_df.drop(\"State\",axis = 1)\n",
    "us_prices_df.head()"
   ]
  },
  {
   "cell_type": "code",
   "execution_count": null,
   "metadata": {},
   "outputs": [],
   "source": [
    "#convert rows into column\n",
    "#The prices are in dollar per million BTU\n",
    "us_dfpri = us_prices_df.melt(var_name = \"Year\", value_name = \" price\")\n",
    "us_dfpri.head()"
   ]
  },
  {
   "cell_type": "markdown",
   "metadata": {},
   "source": [
    "### Merging Population, production and consumption dataframes"
   ]
  },
  {
   "cell_type": "code",
   "execution_count": null,
   "metadata": {
    "scrolled": false
   },
   "outputs": [],
   "source": [
    "us_df_merged1 = pd.merge(us_df_pr, us_dfc, on=\"Year\")\n",
    "us_df_merged2 = pd.merge(us_df_merged1, us_dfp, on = \"Year\")\n",
    "us_df_merged = pd.merge(us_df_merged2, us_dfpri, on = \"Year\")\n",
    "us_df_merged.head()"
   ]
  },
  {
   "cell_type": "code",
   "execution_count": null,
   "metadata": {
    "scrolled": true
   },
   "outputs": [],
   "source": [
    "us_df_merged.dtypes"
   ]
  },
  {
   "cell_type": "code",
   "execution_count": null,
   "metadata": {},
   "outputs": [],
   "source": [
    "# convert year from string to integer\n",
    "us_df_merged[\"Year\"] = us_df_merged[\"Year\"].astype(str).astype(int)\n"
   ]
  },
  {
   "cell_type": "code",
   "execution_count": null,
   "metadata": {
    "scrolled": true
   },
   "outputs": [],
   "source": [
    "us_df_merged.dtypes"
   ]
  },
  {
   "cell_type": "code",
   "execution_count": null,
   "metadata": {
    "scrolled": true
   },
   "outputs": [],
   "source": [
    "# Renaming columns for simplification\n",
    "us_df_merged = us_df_merged.rename(columns = {\"Year\":\"year\", \"Renewable energy production in billion (BTU)\": \"production\",\n",
    "                                             \"Total energy consumption in billion (BTU)\":\"consumption\", \n",
    "                                              \"Total Population in Thousands\": \"population\", \"price\":\"price\"\n",
    "                                             })\n",
    "us_df_merged.head()"
   ]
  },
  {
   "cell_type": "code",
   "execution_count": null,
   "metadata": {},
   "outputs": [],
   "source": [
    "#Write final data into csv\n",
    "us_df_merged.to_csv('us_energy_merged.csv', index = False)"
   ]
  }
 ],
 "metadata": {
  "kernelspec": {
   "display_name": "Python [conda env:PythonData38] *",
   "language": "python",
   "name": "conda-env-PythonData38-py"
  },
  "language_info": {
   "codemirror_mode": {
    "name": "ipython",
    "version": 3
   },
   "file_extension": ".py",
   "mimetype": "text/x-python",
   "name": "python",
   "nbconvert_exporter": "python",
   "pygments_lexer": "ipython3",
   "version": "3.8.5"
  }
 },
 "nbformat": 4,
 "nbformat_minor": 4
}
