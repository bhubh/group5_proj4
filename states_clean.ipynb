{
 "cells": [
  {
   "cell_type": "code",
   "execution_count": null,
   "id": "61c77a14",
   "metadata": {},
   "outputs": [],
   "source": [
    "# import dependencies\n",
    "import matplotlib.pyplot as plt\n",
    "import pandas as pd\n",
    "import numpy as np\n",
    "import sklearn\n",
    "%matplotlib inline"
   ]
  },
  {
   "cell_type": "code",
   "execution_count": null,
   "id": "2747c603",
   "metadata": {},
   "outputs": [],
   "source": [
    "# read master file of energy production\n",
    "total_energy_path = \"Resources/Total_Renewable_energy.xlsx\"\n",
    "total_energy_df = pd.read_excel(total_energy_path, sheet_name = \"Data\")\n",
    "total_energy_df.head()"
   ]
  },
  {
   "cell_type": "code",
   "execution_count": null,
   "id": "b4571773",
   "metadata": {},
   "outputs": [],
   "source": [
    "# filter for only renewable energy\n",
    "renewable_df = total_energy_df.loc[total_energy_df[\"MSN\"] == \"REPRB\"]\n",
    "renewable_df.head()"
   ]
  },
  {
   "cell_type": "code",
   "execution_count": null,
   "id": "b2637f03",
   "metadata": {},
   "outputs": [],
   "source": [
    "# remove unnecessary columns and rename the header from \"StateCode\" to \"State\"\n",
    "renewable_df = renewable_df.drop([\"Data_Status\", \"MSN\"], axis = 1)\n",
    "renewable_df = renewable_df.rename(columns = {\"StateCode\": \"Abbreviation\"})\n",
    "renewable_df.head()"
   ]
  },
  {
   "cell_type": "code",
   "execution_count": null,
   "id": "cf6ea9e4",
   "metadata": {},
   "outputs": [],
   "source": [
    "# remove US from the data and sorting alphabetically\n",
    "renewable_df = renewable_df[renewable_df.Abbreviation != \"US\"]\n",
    "renewable_df = renewable_df.sort_values(by = [\"Abbreviation\"])\n",
    "renewable_df.head()"
   ]
  },
  {
   "cell_type": "code",
   "execution_count": null,
   "id": "7211185d",
   "metadata": {},
   "outputs": [],
   "source": [
    "# reading the stats sheet for merge later\n",
    "states_path = \"Resources/Total_Renewable_energy.xlsx\"\n",
    "states_df = pd.read_excel(states_path, sheet_name = \"State Codes\")\n",
    "\n",
    "# rename the column \"State Code\" into \"State\"\n",
    "states_df = states_df.rename(columns = {\"State Code\": \"Abbreviation\",\n",
    "                                       \"Description\": \"State\"})\n",
    "states_df.head()"
   ]
  },
  {
   "cell_type": "code",
   "execution_count": null,
   "id": "54705af2",
   "metadata": {},
   "outputs": [],
   "source": [
    "# change abbreviations into full names\n",
    "renewable_df = states_df.merge(renewable_df, how = \"right\", on = \"Abbreviation\")\n",
    "renewable_df = renewable_df.drop([\"Abbreviation\"], axis = 1)\n",
    "renewable_df.head()"
   ]
  },
  {
   "cell_type": "code",
   "execution_count": null,
   "id": "866e5ffb",
   "metadata": {},
   "outputs": [],
   "source": [
    "# make the data linear\n",
    "renewable_df = renewable_df.melt(id_vars = [\"State\"],\n",
    "                                var_name = \"Year\",\n",
    "                                value_name = \"production\")\n",
    "renewable_df.head()"
   ]
  },
  {
   "cell_type": "code",
   "execution_count": null,
   "id": "719fe43e",
   "metadata": {},
   "outputs": [],
   "source": [
    "# reread the file, drop the \"US\" values, and sort alphabetically\n",
    "total_energy_path = \"Resources/Total_Renewable_energy.xlsx\"\n",
    "total_energy_df = pd.read_excel(total_energy_path, sheet_name = \"Data\", dtype = str)\n",
    "total_energy_df = total_energy_df.rename(columns = {\"StateCode\": \"Abbreviation\"})\n",
    "total_energy_df = total_energy_df[total_energy_df.Abbreviation != \"US\"]\n",
    "total_energy_df = total_energy_df.sort_values(by = [\"Abbreviation\"])\n",
    "total_energy_df.head()"
   ]
  },
  {
   "cell_type": "code",
   "execution_count": null,
   "id": "b104ec81",
   "metadata": {},
   "outputs": [],
   "source": [
    "# change from Abbreviations to full names for the State\n",
    "total_energy_df = states_df.merge(total_energy_df, how = \"right\", on = \"Abbreviation\")\n",
    "total_energy_df = total_energy_df.drop([\"Abbreviation\"], axis = 1)\n",
    "total_energy_df.head()"
   ]
  },
  {
   "cell_type": "code",
   "execution_count": null,
   "id": "855683d9",
   "metadata": {},
   "outputs": [],
   "source": [
    "# fill NaN values with 0\n",
    "total_energy_df.fillna(0, inplace=True)\n",
    "total_energy_df.head()"
   ]
  },
  {
   "cell_type": "code",
   "execution_count": null,
   "id": "321a8b19",
   "metadata": {},
   "outputs": [],
   "source": [
    "# check total energy consumed by state and drop unnecessary columns\n",
    "consumed_df = total_energy_df[total_energy_df[\"MSN\"] == \"TETCB\"]\n",
    "consumed_df = consumed_df.drop([\"Data_Status\",\"MSN\"], axis = 1)\n",
    "consumed_df.head()"
   ]
  },
  {
   "cell_type": "code",
   "execution_count": null,
   "id": "13c26a69",
   "metadata": {},
   "outputs": [],
   "source": [
    "# make the data linear\n",
    "consumed_df = consumed_df.melt(id_vars = [\"State\"], \n",
    "        var_name = \"Year\", \n",
    "        value_name = \"consumption\")\n",
    "pd.set_option('display.max_rows', None)\n",
    "consumed_df.head()"
   ]
  },
  {
   "cell_type": "code",
   "execution_count": null,
   "id": "cb6942af",
   "metadata": {},
   "outputs": [],
   "source": [
    "total_energy_df.head()"
   ]
  },
  {
   "cell_type": "code",
   "execution_count": null,
   "id": "6fc5799a",
   "metadata": {},
   "outputs": [],
   "source": [
    "# # read total consumption file\n",
    "# don't need gdp\n",
    "# total_gdp_path = \"Resources/Total_Consumption.xlsx\"\n",
    "# total_gdp_df = pd.read_excel(total_gdp_path, sheet_name = \"Real GDP\", dtype = str)\n",
    "# total_gdp_df.fillna(0, inplace=True)\n",
    "# total_gdp_df.head()"
   ]
  },
  {
   "cell_type": "code",
   "execution_count": null,
   "id": "d843cd10",
   "metadata": {},
   "outputs": [],
   "source": [
    "# # replace the header with the 2nd row\n",
    "# don't need gdp\n",
    "# total_gdp_df.columns = total_gdp_df.iloc[1]\n",
    "# total_gdp_df = total_gdp_df.iloc[1:].reset_index(drop = True)\n",
    "# total_gdp_df = total_gdp_df.drop(index=0).reset_index(drop=True)\n",
    "# total_gdp_df = total_gdp_df.rename(columns = {\"State\": \"Abbreviation\"})\n",
    "# total_gdp_df = total_gdp_df[total_gdp_df.Abbreviation != \"US\"]\n",
    "# total_gdp_df = total_gdp_df.sort_values(by = [\"Abbreviation\"])\n",
    "# total_gdp_df.head()"
   ]
  },
  {
   "cell_type": "code",
   "execution_count": null,
   "id": "de8fcc19",
   "metadata": {},
   "outputs": [],
   "source": [
    "# # change from Abbreviations to full names for the State\n",
    "# don't need gdp\n",
    "# total_gdp_df = states_df.merge(total_gdp_df, how = \"right\", on = \"Abbreviation\")\n",
    "# total_gdp_df = total_gdp_df.drop([\"Abbreviation\"], axis = 1)\n",
    "# total_gdp_df.head()"
   ]
  },
  {
   "cell_type": "code",
   "execution_count": null,
   "id": "a3d6203a",
   "metadata": {},
   "outputs": [],
   "source": [
    "# # make the data linear\n",
    "# don't need gdp\n",
    "# total_gdp_df = total_gdp_df.melt(id_vars = [\"State\"], \n",
    "#         var_name = \"Year\", \n",
    "#         value_name = \"GDP\")\n",
    "# pd.set_option('display.max_rows', None)\n",
    "# total_gdp_df.head()"
   ]
  },
  {
   "cell_type": "code",
   "execution_count": null,
   "id": "94bf7d75",
   "metadata": {},
   "outputs": [],
   "source": [
    "# read total population file\n",
    "total_population_path = \"Resources/Total_Population.xlsx\"\n",
    "total_population_df = pd.read_excel(total_population_path, sheet_name = \"Total Population\", dtype = str)\n",
    "total_population_df.fillna(0, inplace=True)\n",
    "total_population_df.head()"
   ]
  },
  {
   "cell_type": "code",
   "execution_count": null,
   "id": "833c34c0",
   "metadata": {},
   "outputs": [],
   "source": [
    "# replace the header with the 2nd row\n",
    "total_population_df.columns = total_population_df.iloc[1]\n",
    "total_population_df = total_population_df.iloc[1:].reset_index(drop = True)\n",
    "total_population_df = total_population_df.drop(index=0).reset_index(drop=True)\n",
    "total_population_df = total_population_df.rename(columns = {\"State\": \"Abbreviation\"})\n",
    "total_population_df = total_population_df[total_population_df.Abbreviation != \"US\"]\n",
    "total_population_df = total_population_df.sort_values(by = [\"Abbreviation\"])\n",
    "total_population_df.head()"
   ]
  },
  {
   "cell_type": "code",
   "execution_count": null,
   "id": "09e54e17",
   "metadata": {},
   "outputs": [],
   "source": [
    "# change from Abbreviations to full names for the State\n",
    "total_population_df = states_df.merge(total_population_df, how = \"right\", on = \"Abbreviation\")\n",
    "total_population_df = total_population_df.drop([\"Abbreviation\"], axis = 1)\n",
    "total_population_df.head()"
   ]
  },
  {
   "cell_type": "code",
   "execution_count": null,
   "id": "4cc68e51",
   "metadata": {},
   "outputs": [],
   "source": [
    "# make the data linear\n",
    "total_population_df = total_population_df.melt(id_vars = [\"State\"], \n",
    "        var_name = \"Year\", \n",
    "        value_name = \"population\")\n",
    "pd.set_option('display.max_rows', None)\n",
    "total_population_df.head()"
   ]
  },
  {
   "cell_type": "code",
   "execution_count": null,
   "id": "004ff396",
   "metadata": {},
   "outputs": [],
   "source": [
    "# read total price file\n",
    "total_price_path = \"Resources/Total_Prices.xlsx\"\n",
    "total_price_df = pd.read_excel(total_price_path, sheet_name = \"Prices\", dtype = str)\n",
    "total_price_df.head()"
   ]
  },
  {
   "cell_type": "code",
   "execution_count": null,
   "id": "1cc4c51d",
   "metadata": {},
   "outputs": [],
   "source": [
    "# replace the header with the 2nd row\n",
    "total_price_df.columns = total_price_df.iloc[1]\n",
    "total_price_df = total_price_df.iloc[1:].reset_index(drop = True)\n",
    "total_price_df = total_price_df.drop(index=0).reset_index(drop=True)\n",
    "total_price_df = total_price_df.rename(columns = {\"State\": \"Abbreviation\"})\n",
    "total_price_df = total_price_df[total_price_df.Abbreviation != \"US\"]\n",
    "total_price_df = total_price_df.sort_values(by = [\"Abbreviation\"])\n",
    "total_price_df.head()"
   ]
  },
  {
   "cell_type": "code",
   "execution_count": null,
   "id": "81f50bff",
   "metadata": {},
   "outputs": [],
   "source": [
    "# change from Abbreviations to full names for the State\n",
    "total_price_df = states_df.merge(total_price_df, how = \"right\", on = \"Abbreviation\")\n",
    "total_price_df = total_price_df.drop([\"Abbreviation\"], axis = 1)\n",
    "total_price_df.head()"
   ]
  },
  {
   "cell_type": "code",
   "execution_count": null,
   "id": "2d9d3b9c",
   "metadata": {},
   "outputs": [],
   "source": [
    "# make the data linear\n",
    "total_price_df = total_price_df.melt(id_vars = [\"State\"], \n",
    "        var_name = \"Year\", \n",
    "        value_name = \"price\")\n",
    "total_price_df.head()"
   ]
  },
  {
   "cell_type": "code",
   "execution_count": null,
   "id": "ad405c73",
   "metadata": {},
   "outputs": [],
   "source": [
    "# change data types for year values\n",
    "consumed_df[\"Year\"] = consumed_df[\"Year\"].astype(str).astype(int)\n",
    "consumed_df.info()\n",
    "\n",
    "total_population_df[\"Year\"] = total_population_df[\"Year\"].astype(str).astype(int)\n",
    "total_population_df[\"Year\"]\n",
    "\n",
    "# don't need gdp\n",
    "# total_gdp_df[\"Year\"] = total_gdp_df[\"Year\"].astype(str).astype(int)\n",
    "# total_gdp_df[\"Year\"]\n",
    "\n",
    "renewable_df[\"Year\"] = renewable_df[\"Year\"].astype(str).astype(int)\n",
    "renewable_df.info()\n",
    "\n",
    "total_price_df[\"Year\"] = total_price_df[\"Year\"].astype(str).astype(int)\n",
    "total_price_df.info()"
   ]
  },
  {
   "cell_type": "code",
   "execution_count": null,
   "id": "34492585",
   "metadata": {},
   "outputs": [],
   "source": [
    "# # merge all of the dfs\n",
    "\n",
    "# # merge production and consumption dfs\n",
    "# df1 = pd.merge(renewable_df, consumed_df, on=[\"State\", \"Year\"])\n",
    "\n",
    "# don't need gdp\n",
    "# # merge population and gdp dfs\n",
    "# df2 = pd.merge(total_gdp_df, total_population_df, on=[\"State\", \"Year\"])\n",
    "\n",
    "# # merge df1 and df2\n",
    "# df3 = pd.merge(df1, df2, on=[\"State\", \"Year\"])\n",
    "\n",
    "# # merge with prices df\n",
    "# states_df_merged = pd.merge(df3, total_price_df, on=[\"State\", \"Year\"])\n",
    "\n",
    "# states_df_merged.head()"
   ]
  },
  {
   "cell_type": "code",
   "execution_count": null,
   "id": "eff51ee4",
   "metadata": {},
   "outputs": [],
   "source": [
    "# merge all of the dfs\n",
    "\n",
    "# merge production and consumption dfs\n",
    "df1 = pd.merge(renewable_df, consumed_df, on=[\"State\", \"Year\"])\n",
    "\n",
    "# merge population and gdp dfs\n",
    "df2 = pd.merge(total_price_df, total_population_df, on=[\"State\", \"Year\"])\n",
    "\n",
    "# merge df1 and df2\n",
    "states_df_merged = pd.merge(df1, df2, on=[\"State\", \"Year\"])\n",
    "\n",
    "# merge with prices df\n",
    "# states_df_merged = pd.merge(df3, total_price_df, on=[\"State\", \"Year\"])\n",
    "\n",
    "states_df_merged.head()"
   ]
  },
  {
   "cell_type": "code",
   "execution_count": null,
   "id": "b0123392",
   "metadata": {},
   "outputs": [],
   "source": [
    "# check data types\n",
    "states_df_merged.info()"
   ]
  },
  {
   "cell_type": "code",
   "execution_count": null,
   "id": "a1633f4e",
   "metadata": {},
   "outputs": [],
   "source": [
    "# save the files as csv\n",
    "states_df_merged.to_csv(\"states_energy_merged.csv\", index = False)"
   ]
  }
 ],
 "metadata": {
  "kernelspec": {
   "display_name": "Python 3 (ipykernel)",
   "language": "python",
   "name": "python3"
  },
  "language_info": {
   "codemirror_mode": {
    "name": "ipython",
    "version": 3
   },
   "file_extension": ".py",
   "mimetype": "text/x-python",
   "name": "python",
   "nbconvert_exporter": "python",
   "pygments_lexer": "ipython3",
   "version": "3.9.7"
  }
 },
 "nbformat": 4,
 "nbformat_minor": 5
}
