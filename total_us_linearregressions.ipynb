{
 "cells": [
  {
   "cell_type": "code",
   "execution_count": null,
   "id": "40a94471",
   "metadata": {},
   "outputs": [],
   "source": [
    "%matplotlib inline\n",
    "import matplotlib.pyplot as plt\n",
    "import pandas as pd\n",
    "import numpy as np\n",
    "import sklearn\n",
    "from sklearn.model_selection import train_test_split\n",
    "from sklearn.linear_model import LinearRegression\n",
    "from sklearn.metrics import mean_squared_error"
   ]
  },
  {
   "cell_type": "code",
   "execution_count": null,
   "id": "b9f34699",
   "metadata": {},
   "outputs": [],
   "source": [
    "#import total data\n",
    "usmodels_df = pd.read_csv(\"us_energy_merged.csv\")\n",
    "usmodels_df.head()"
   ]
  },
  {
   "cell_type": "code",
   "execution_count": null,
   "id": "5fa12621",
   "metadata": {},
   "outputs": [],
   "source": [
    "#calulate excess between produced and consumed\n",
    "usmodels_df[\"variance\"] = usmodels_df[\"production\"]-usmodels_df[\"consumption\"]\n",
    "usmodels_df"
   ]
  },
  {
   "cell_type": "code",
   "execution_count": null,
   "id": "320ed6da",
   "metadata": {},
   "outputs": [],
   "source": [
    "# select the features \n",
    "X = usmodels_df[[\"year\", \"production\", \"population\", \" price\"]]\n",
    "y = usmodels_df[\"variance\"].values.reshape(-1,1)"
   ]
  },
  {
   "cell_type": "code",
   "execution_count": null,
   "id": "d126d20d",
   "metadata": {},
   "outputs": [],
   "source": [
    "# train test and split\n",
    "X_train, X_test, y_train, y_test = train_test_split(X, y, random_state=42)"
   ]
  },
  {
   "cell_type": "code",
   "execution_count": null,
   "id": "9a6eeeb7",
   "metadata": {},
   "outputs": [],
   "source": [
    "# create the linear regresson model\n",
    "model = LinearRegression()\n",
    "model.fit(X_train, y_train)"
   ]
  },
  {
   "cell_type": "code",
   "execution_count": null,
   "id": "0c5f3772",
   "metadata": {},
   "outputs": [],
   "source": [
    "#show predictions\n",
    "predictions = model.predict(X_test)\n",
    "MSE = mean_squared_error(y_test, predictions)\n",
    "r2 = model.score(X_test, y_test)\n",
    "print(MSE, r2)\n"
   ]
  },
  {
   "cell_type": "code",
   "execution_count": null,
   "id": "d1531e9f",
   "metadata": {},
   "outputs": [],
   "source": [
    "#use linear regression to prediction the future for the features\n"
   ]
  },
  {
   "cell_type": "code",
   "execution_count": null,
   "id": "bf52f08a",
   "metadata": {},
   "outputs": [],
   "source": [
    "#create price prediction\n",
    "X1 = usmodels_df[\"year\"].values.reshape(-1,1)\n",
    "y1 = usmodels_df[\" price\"].values.reshape(-1,1)\n",
    "plt.scatter(X1,y1)"
   ]
  },
  {
   "cell_type": "code",
   "execution_count": null,
   "id": "fc533df7",
   "metadata": {},
   "outputs": [],
   "source": [
    "# train test and split\n",
    "X1_train, X1_test, y1_train, y1_test = train_test_split(X1, y1, random_state=42)"
   ]
  },
  {
   "cell_type": "code",
   "execution_count": null,
   "id": "280ebae5",
   "metadata": {},
   "outputs": [],
   "source": [
    "#create price linear regression model\n",
    "modelprice = LinearRegression()\n",
    "modelprice.fit(X1_train, y1_train)\n"
   ]
  },
  {
   "cell_type": "code",
   "execution_count": null,
   "id": "cb80be46",
   "metadata": {},
   "outputs": [],
   "source": [
    "# use mean_squared_error \n",
    "\n",
    "predictionsprice = modelprice.predict(X1_test)\n",
    "MSE1 = mean_squared_error(y1_test, predictionsprice)\n",
    "r2 = modelprice.score(X1_test, y1_test)\n",
    "\n",
    "print(MSE1, r2)"
   ]
  },
  {
   "cell_type": "code",
   "execution_count": null,
   "id": "f0655e79",
   "metadata": {},
   "outputs": [],
   "source": [
    "# predict the price from 2021 to 2035\n",
    "price = []\n",
    "\n",
    "for x in range(2021, 2036):\n",
    "    p = modelprice.predict([[x]])\n",
    "    price.append(float(p))\n",
    "    \n",
    "price"
   ]
  },
  {
   "cell_type": "code",
   "execution_count": null,
   "id": "67b5cf0e",
   "metadata": {},
   "outputs": [],
   "source": [
    "#create population prediction\n",
    "X2 = usmodels_df[\"year\"].values.reshape(-1,1)\n",
    "y2 = usmodels_df[\"population\"].values.reshape(-1,1)\n",
    "plt.scatter(X2,y2)"
   ]
  },
  {
   "cell_type": "code",
   "execution_count": null,
   "id": "b8efb622",
   "metadata": {},
   "outputs": [],
   "source": [
    "# train test and split\n",
    "X2_train, X2_test, y2_train, y2_test = train_test_split(X2, y2, random_state=42)\n"
   ]
  },
  {
   "cell_type": "code",
   "execution_count": null,
   "id": "8e589ae7",
   "metadata": {},
   "outputs": [],
   "source": [
    "#create population linear regression model\n",
    "modelpop = LinearRegression()\n",
    "modelpop.fit(X2_train, y2_train)\n"
   ]
  },
  {
   "cell_type": "code",
   "execution_count": null,
   "id": "73bd2161",
   "metadata": {},
   "outputs": [],
   "source": [
    "# use mean_squared_error \n",
    "\n",
    "predictionspop = modelpop.predict(X2_test)\n",
    "MSE2 = mean_squared_error(y2_test, predictionspop)\n",
    "r2 = modelpop.score(X2_test, y2_test)\n",
    "\n",
    "print(MSE2, r2)"
   ]
  },
  {
   "cell_type": "code",
   "execution_count": null,
   "id": "e91123be",
   "metadata": {},
   "outputs": [],
   "source": [
    "# predict the price from 2021 to 2035\n",
    "population = []\n",
    "for x in range(2021, 2036):\n",
    "    k = modelpop.predict([[x]])\n",
    "    population.append(float(k))\n",
    "    \n",
    "population"
   ]
  },
  {
   "cell_type": "code",
   "execution_count": null,
   "id": "9071cb28",
   "metadata": {},
   "outputs": [],
   "source": [
    "#create production prediction\n",
    "X3 = usmodels_df[\"year\"].values.reshape(-1,1)\n",
    "y3 = usmodels_df[\"production\"].values.reshape(-1,1)\n",
    "plt.scatter(X3,y3)"
   ]
  },
  {
   "cell_type": "code",
   "execution_count": null,
   "id": "b718bd99",
   "metadata": {},
   "outputs": [],
   "source": [
    "# train test and split\n",
    "X3_train, X3_test, y3_train, y3_test = train_test_split(X3, y3, random_state=42)"
   ]
  },
  {
   "cell_type": "code",
   "execution_count": null,
   "id": "cfbeebe2",
   "metadata": {},
   "outputs": [],
   "source": [
    "#create production linear regression model\n",
    "modelprod = LinearRegression()\n",
    "modelprod.fit(X3_train, y3_train)\n"
   ]
  },
  {
   "cell_type": "code",
   "execution_count": null,
   "id": "91c1db70",
   "metadata": {},
   "outputs": [],
   "source": [
    "# use mean_squared_error\n",
    "predictionsprod = modelprod.predict(X3_test)\n",
    "MSE3 = mean_squared_error(y3_test, predictionsprod)\n",
    "r2 = modelprod.score(X3_test, y3_test)\n",
    "\n",
    "print(MSE3, r2)"
   ]
  },
  {
   "cell_type": "code",
   "execution_count": null,
   "id": "a68ab117",
   "metadata": {},
   "outputs": [],
   "source": [
    "# predict the renewable production from 2021 to 2035\n",
    "production = []\n",
    "for x in range(2021, 2036):\n",
    "    l = modelprod.predict([[x]])\n",
    "    production.append(float(l))\n",
    "\n",
    "production\n"
   ]
  },
  {
   "cell_type": "code",
   "execution_count": null,
   "id": "5aa61518",
   "metadata": {},
   "outputs": [],
   "source": [
    "#create consumption predictions\n",
    "X4 = usmodels_df[\"year\"].values.reshape(-1,1)\n",
    "y4 = usmodels_df[\"consumption\"].values.reshape(-1,1)\n",
    "plt.scatter(X4,y4)"
   ]
  },
  {
   "cell_type": "code",
   "execution_count": null,
   "id": "86c551aa",
   "metadata": {},
   "outputs": [],
   "source": [
    "# train test and split\n",
    "X4_train, X4_test, y4_train, y4_test = train_test_split(X4, y4, random_state=42)"
   ]
  },
  {
   "cell_type": "code",
   "execution_count": null,
   "id": "3e6e7acd",
   "metadata": {},
   "outputs": [],
   "source": [
    "#create consumption linear regression model\n",
    "modelcons = LinearRegression()\n",
    "modelcons.fit(X4_train, y4_train)"
   ]
  },
  {
   "cell_type": "code",
   "execution_count": null,
   "id": "f7a520f5",
   "metadata": {},
   "outputs": [],
   "source": [
    "# use mean_squared_error \n",
    "predictionscons = modelcons.predict(X4_test)\n",
    "MSE4 = mean_squared_error(y4_test, predictionscons)\n",
    "r2 = modelcons.score(X4_test, y4_test)\n",
    "\n",
    "print(MSE4, r2)\n"
   ]
  },
  {
   "cell_type": "code",
   "execution_count": null,
   "id": "562538a4",
   "metadata": {},
   "outputs": [],
   "source": [
    "# predict the renewable consumption from 2021 to 2035\n",
    "consumption = []\n",
    "for x in range(2021, 2036):\n",
    "    c = modelcons.predict([[x]])\n",
    "    consumption.append(float(c))\n",
    "\n",
    "consumption\n"
   ]
  },
  {
   "cell_type": "code",
   "execution_count": null,
   "id": "4bf5dfd2",
   "metadata": {},
   "outputs": [],
   "source": [
    "# use all data from predictions to calculate future variance\n",
    "variance = []\n",
    "\n",
    "listresults = [[2021,9803617.862046212,336085.91595313326,20.86740511949222], \n",
    "             [2022,9921656.48791936, 338731.22238856275,21.253420346535336],\n",
    "             [2023, 10039695.113792509,341376.52882399224,21.639435573578567],\n",
    "             [2024,10157733.739665657,344021.8352594208,22.025450800621797],\n",
    "             [2025, 10275772.365538806,346667.1416948503,22.41146602766503],\n",
    "             [2026,10393810.991411954,349312.4481302798,22.79748125470826],\n",
    "             [2027,10511849.617285103,351957.75456570927,23.18349648175149],\n",
    "             [2028,10629888.243158251,354603.06100113876,23.56951170879472],\n",
    "             [2029,10747926.86903143,357248.3674365673,23.955526935837952],\n",
    "             [2030,10865965.494904578,359893.6738719968,24.341542162881183],\n",
    "             [2031,10984004.120777726,362538.9803074263,24.727557389924414],\n",
    "             [2032,11102042.746650875,365184.2867428558,25.113572616967645],\n",
    "             [2033,11220081.372524023,367829.5931782853,25.499587844010875], \n",
    "            [2034,11338119.998397171,370474.8996137148,25.885603071054106], \n",
    "            [2035,11456158.62427032,373120.20604914334,26.271618298097337]] \n",
    "\n",
    "for x in listresults:\n",
    "    v = model.predict([x])\n",
    "    variance.append(float(v))\n",
    "    \n",
    "variance \n"
   ]
  },
  {
   "cell_type": "code",
   "execution_count": null,
   "id": "f54d485c",
   "metadata": {},
   "outputs": [],
   "source": [
    "# create dictionary to hold everything from future years predictions\n",
    "predictionresults_dict = {\n",
    "    \"year\":[2021, 2022, 2023, 2024, 2025, 2026, 2027, 2028, 2029, 2030, 2031, 2032, 2033, 2034, 2035],\n",
    "    \"produced_renewable\": production,\n",
    "    \"total_consumed\": consumption,\n",
    "    \"population\": population,\n",
    "    \"energy_price\": price,\n",
    "    \"difference\": variance\n",
    "}\n",
    "\n",
    "# create new dataframe with predictions\n",
    "predictionresults_df = pd.DataFrame(predictionresults_dict)\n",
    "predictionresults_df"
   ]
  },
  {
   "cell_type": "code",
   "execution_count": null,
   "id": "a548b90a",
   "metadata": {},
   "outputs": [],
   "source": [
    "# save new prediction results dataframe to csv\n",
    "predictionresults_df.to_csv(\"static/csv/us_future_predictions.csv\",index=False, float_format='%.1f')\n"
   ]
  },
  {
   "cell_type": "code",
   "execution_count": null,
   "id": "e16e5316",
   "metadata": {},
   "outputs": [],
   "source": [
    "usmodels_df = usmodels_df.rename(columns={'production': 'produced_renewable', 'consumption': 'total_consumed', ' price': 'energy_price', 'variance': 'difference'})\n",
    "usmodels_df"
   ]
  },
  {
   "cell_type": "code",
   "execution_count": null,
   "id": "74b771a8",
   "metadata": {},
   "outputs": [],
   "source": [
    "dfs = [usmodels_df, predictionresults_df]\n",
    "full_us_df = pd.concat(dfs, ignore_index=True)\n",
    "pd.options.display.float_format = '{:.1f}'.format\n",
    "full_us_df"
   ]
  },
  {
   "cell_type": "code",
   "execution_count": null,
   "id": "274760b0",
   "metadata": {},
   "outputs": [],
   "source": [
    "full_us_df.to_csv(\"static/csv/full_us_data.csv\",index=False, float_format='%.1f')"
   ]
  },
  {
   "cell_type": "code",
   "execution_count": null,
   "id": "7f9a8dec",
   "metadata": {},
   "outputs": [],
   "source": []
  }
 ],
 "metadata": {
  "kernelspec": {
   "display_name": "Python [conda env:.conda-PYthonData38]",
   "language": "python",
   "name": "conda-env-.conda-PYthonData38-py"
  },
  "language_info": {
   "codemirror_mode": {
    "name": "ipython",
    "version": 3
   },
   "file_extension": ".py",
   "mimetype": "text/x-python",
   "name": "python",
   "nbconvert_exporter": "python",
   "pygments_lexer": "ipython3",
   "version": "3.8.12"
  }
 },
 "nbformat": 4,
 "nbformat_minor": 5
}
