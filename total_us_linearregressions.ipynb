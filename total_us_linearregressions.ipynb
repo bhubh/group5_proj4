{
 "cells": [
  {
   "cell_type": "code",
   "execution_count": 1,
   "id": "95c38fbb",
   "metadata": {},
   "outputs": [],
   "source": [
    "%matplotlib inline\n",
    "import matplotlib.pyplot as plt\n",
    "import pandas as pd\n",
    "import numpy as np\n",
    "import sklearn\n",
    "from sklearn.model_selection import train_test_split\n",
    "from sklearn.linear_model import LinearRegression\n",
    "from sklearn.metrics import mean_squared_error"
   ]
  },
  {
   "cell_type": "code",
   "execution_count": 2,
   "id": "eeba6048",
   "metadata": {},
   "outputs": [
    {
     "data": {
      "text/html": [
       "<div>\n",
       "<style scoped>\n",
       "    .dataframe tbody tr th:only-of-type {\n",
       "        vertical-align: middle;\n",
       "    }\n",
       "\n",
       "    .dataframe tbody tr th {\n",
       "        vertical-align: top;\n",
       "    }\n",
       "\n",
       "    .dataframe thead th {\n",
       "        text-align: right;\n",
       "    }\n",
       "</style>\n",
       "<table border=\"1\" class=\"dataframe\">\n",
       "  <thead>\n",
       "    <tr style=\"text-align: right;\">\n",
       "      <th></th>\n",
       "      <th>year</th>\n",
       "      <th>production</th>\n",
       "      <th>consumption</th>\n",
       "      <th>population</th>\n",
       "      <th>price</th>\n",
       "    </tr>\n",
       "  </thead>\n",
       "  <tbody>\n",
       "    <tr>\n",
       "      <th>0</th>\n",
       "      <td>1970</td>\n",
       "      <td>4070021.0</td>\n",
       "      <td>67720114.0</td>\n",
       "      <td>205052.0</td>\n",
       "      <td>1.65</td>\n",
       "    </tr>\n",
       "    <tr>\n",
       "      <th>1</th>\n",
       "      <td>1971</td>\n",
       "      <td>4262212.0</td>\n",
       "      <td>69163993.0</td>\n",
       "      <td>207661.0</td>\n",
       "      <td>1.76</td>\n",
       "    </tr>\n",
       "    <tr>\n",
       "      <th>2</th>\n",
       "      <td>1972</td>\n",
       "      <td>4382009.0</td>\n",
       "      <td>72677208.0</td>\n",
       "      <td>209896.0</td>\n",
       "      <td>1.84</td>\n",
       "    </tr>\n",
       "    <tr>\n",
       "      <th>3</th>\n",
       "      <td>1973</td>\n",
       "      <td>4410938.0</td>\n",
       "      <td>75723857.0</td>\n",
       "      <td>211909.0</td>\n",
       "      <td>2.02</td>\n",
       "    </tr>\n",
       "    <tr>\n",
       "      <th>4</th>\n",
       "      <td>1974</td>\n",
       "      <td>4741851.0</td>\n",
       "      <td>73914525.0</td>\n",
       "      <td>213854.0</td>\n",
       "      <td>2.87</td>\n",
       "    </tr>\n",
       "  </tbody>\n",
       "</table>\n",
       "</div>"
      ],
      "text/plain": [
       "   year  production  consumption  population  price\n",
       "0  1970   4070021.0   67720114.0    205052.0   1.65\n",
       "1  1971   4262212.0   69163993.0    207661.0   1.76\n",
       "2  1972   4382009.0   72677208.0    209896.0   1.84\n",
       "3  1973   4410938.0   75723857.0    211909.0   2.02\n",
       "4  1974   4741851.0   73914525.0    213854.0   2.87"
      ]
     },
     "execution_count": 2,
     "metadata": {},
     "output_type": "execute_result"
    }
   ],
   "source": [
    "#import total data\n",
    "usmodels_df = pd.read_csv(\"us_energy_merged.csv\")\n",
    "usmodels_df.head()"
   ]
  },
  {
   "cell_type": "code",
   "execution_count": 3,
   "id": "33297537",
   "metadata": {},
   "outputs": [
    {
     "data": {
      "text/html": [
       "<div>\n",
       "<style scoped>\n",
       "    .dataframe tbody tr th:only-of-type {\n",
       "        vertical-align: middle;\n",
       "    }\n",
       "\n",
       "    .dataframe tbody tr th {\n",
       "        vertical-align: top;\n",
       "    }\n",
       "\n",
       "    .dataframe thead th {\n",
       "        text-align: right;\n",
       "    }\n",
       "</style>\n",
       "<table border=\"1\" class=\"dataframe\">\n",
       "  <thead>\n",
       "    <tr style=\"text-align: right;\">\n",
       "      <th></th>\n",
       "      <th>year</th>\n",
       "      <th>production</th>\n",
       "      <th>consumption</th>\n",
       "      <th>population</th>\n",
       "      <th>price</th>\n",
       "      <th>variance</th>\n",
       "    </tr>\n",
       "  </thead>\n",
       "  <tbody>\n",
       "    <tr>\n",
       "      <th>0</th>\n",
       "      <td>1970</td>\n",
       "      <td>4070021.0</td>\n",
       "      <td>67720114.0</td>\n",
       "      <td>205052.0</td>\n",
       "      <td>1.65</td>\n",
       "      <td>-63650093.0</td>\n",
       "    </tr>\n",
       "    <tr>\n",
       "      <th>1</th>\n",
       "      <td>1971</td>\n",
       "      <td>4262212.0</td>\n",
       "      <td>69163993.0</td>\n",
       "      <td>207661.0</td>\n",
       "      <td>1.76</td>\n",
       "      <td>-64901781.0</td>\n",
       "    </tr>\n",
       "    <tr>\n",
       "      <th>2</th>\n",
       "      <td>1972</td>\n",
       "      <td>4382009.0</td>\n",
       "      <td>72677208.0</td>\n",
       "      <td>209896.0</td>\n",
       "      <td>1.84</td>\n",
       "      <td>-68295199.0</td>\n",
       "    </tr>\n",
       "    <tr>\n",
       "      <th>3</th>\n",
       "      <td>1973</td>\n",
       "      <td>4410938.0</td>\n",
       "      <td>75723857.0</td>\n",
       "      <td>211909.0</td>\n",
       "      <td>2.02</td>\n",
       "      <td>-71312919.0</td>\n",
       "    </tr>\n",
       "    <tr>\n",
       "      <th>4</th>\n",
       "      <td>1974</td>\n",
       "      <td>4741851.0</td>\n",
       "      <td>73914525.0</td>\n",
       "      <td>213854.0</td>\n",
       "      <td>2.87</td>\n",
       "      <td>-69172674.0</td>\n",
       "    </tr>\n",
       "    <tr>\n",
       "      <th>5</th>\n",
       "      <td>1975</td>\n",
       "      <td>4687119.0</td>\n",
       "      <td>71953031.0</td>\n",
       "      <td>215973.0</td>\n",
       "      <td>3.33</td>\n",
       "      <td>-67265912.0</td>\n",
       "    </tr>\n",
       "    <tr>\n",
       "      <th>6</th>\n",
       "      <td>1976</td>\n",
       "      <td>4727151.0</td>\n",
       "      <td>75966653.0</td>\n",
       "      <td>218035.0</td>\n",
       "      <td>3.57</td>\n",
       "      <td>-71239502.0</td>\n",
       "    </tr>\n",
       "    <tr>\n",
       "      <th>7</th>\n",
       "      <td>1977</td>\n",
       "      <td>4208966.0</td>\n",
       "      <td>77946963.0</td>\n",
       "      <td>220239.0</td>\n",
       "      <td>3.98</td>\n",
       "      <td>-73737997.0</td>\n",
       "    </tr>\n",
       "    <tr>\n",
       "      <th>8</th>\n",
       "      <td>1978</td>\n",
       "      <td>5005439.0</td>\n",
       "      <td>79978066.0</td>\n",
       "      <td>222585.0</td>\n",
       "      <td>4.23</td>\n",
       "      <td>-74972627.0</td>\n",
       "    </tr>\n",
       "    <tr>\n",
       "      <th>9</th>\n",
       "      <td>1979</td>\n",
       "      <td>5122854.0</td>\n",
       "      <td>80835915.0</td>\n",
       "      <td>225055.0</td>\n",
       "      <td>5.22</td>\n",
       "      <td>-75713061.0</td>\n",
       "    </tr>\n",
       "    <tr>\n",
       "      <th>10</th>\n",
       "      <td>1980</td>\n",
       "      <td>5424534.0</td>\n",
       "      <td>78047519.0</td>\n",
       "      <td>227225.0</td>\n",
       "      <td>6.89</td>\n",
       "      <td>-72622985.0</td>\n",
       "    </tr>\n",
       "    <tr>\n",
       "      <th>11</th>\n",
       "      <td>1981</td>\n",
       "      <td>5417152.0</td>\n",
       "      <td>76093624.0</td>\n",
       "      <td>229466.0</td>\n",
       "      <td>8.04</td>\n",
       "      <td>-70676472.0</td>\n",
       "    </tr>\n",
       "    <tr>\n",
       "      <th>12</th>\n",
       "      <td>1982</td>\n",
       "      <td>5980930.0</td>\n",
       "      <td>73006067.0</td>\n",
       "      <td>231664.0</td>\n",
       "      <td>8.47</td>\n",
       "      <td>-67025137.0</td>\n",
       "    </tr>\n",
       "    <tr>\n",
       "      <th>13</th>\n",
       "      <td>1983</td>\n",
       "      <td>6495613.0</td>\n",
       "      <td>72879382.0</td>\n",
       "      <td>233792.0</td>\n",
       "      <td>8.40</td>\n",
       "      <td>-66383769.0</td>\n",
       "    </tr>\n",
       "    <tr>\n",
       "      <th>14</th>\n",
       "      <td>1984</td>\n",
       "      <td>6438346.0</td>\n",
       "      <td>76510942.0</td>\n",
       "      <td>235825.0</td>\n",
       "      <td>8.30</td>\n",
       "      <td>-70072596.0</td>\n",
       "    </tr>\n",
       "    <tr>\n",
       "      <th>15</th>\n",
       "      <td>1985</td>\n",
       "      <td>6084015.0</td>\n",
       "      <td>76406632.0</td>\n",
       "      <td>237924.0</td>\n",
       "      <td>8.38</td>\n",
       "      <td>-70322617.0</td>\n",
       "    </tr>\n",
       "    <tr>\n",
       "      <th>16</th>\n",
       "      <td>1986</td>\n",
       "      <td>6111141.0</td>\n",
       "      <td>76592009.0</td>\n",
       "      <td>240133.0</td>\n",
       "      <td>7.32</td>\n",
       "      <td>-70480868.0</td>\n",
       "    </tr>\n",
       "    <tr>\n",
       "      <th>17</th>\n",
       "      <td>1987</td>\n",
       "      <td>5624499.0</td>\n",
       "      <td>78960216.0</td>\n",
       "      <td>242289.0</td>\n",
       "      <td>7.36</td>\n",
       "      <td>-73335717.0</td>\n",
       "    </tr>\n",
       "    <tr>\n",
       "      <th>18</th>\n",
       "      <td>1988</td>\n",
       "      <td>5456756.0</td>\n",
       "      <td>82711222.0</td>\n",
       "      <td>244499.0</td>\n",
       "      <td>7.29</td>\n",
       "      <td>-77254466.0</td>\n",
       "    </tr>\n",
       "    <tr>\n",
       "      <th>19</th>\n",
       "      <td>1989</td>\n",
       "      <td>6234679.0</td>\n",
       "      <td>84731917.0</td>\n",
       "      <td>246819.0</td>\n",
       "      <td>7.59</td>\n",
       "      <td>-78497238.0</td>\n",
       "    </tr>\n",
       "    <tr>\n",
       "      <th>20</th>\n",
       "      <td>1990</td>\n",
       "      <td>6041914.0</td>\n",
       "      <td>84455309.0</td>\n",
       "      <td>249623.0</td>\n",
       "      <td>8.29</td>\n",
       "      <td>-78413395.0</td>\n",
       "    </tr>\n",
       "    <tr>\n",
       "      <th>21</th>\n",
       "      <td>1991</td>\n",
       "      <td>6067807.0</td>\n",
       "      <td>84379032.0</td>\n",
       "      <td>252981.0</td>\n",
       "      <td>8.25</td>\n",
       "      <td>-78311225.0</td>\n",
       "    </tr>\n",
       "    <tr>\n",
       "      <th>22</th>\n",
       "      <td>1992</td>\n",
       "      <td>5820575.0</td>\n",
       "      <td>85731678.0</td>\n",
       "      <td>256514.0</td>\n",
       "      <td>8.16</td>\n",
       "      <td>-79911103.0</td>\n",
       "    </tr>\n",
       "    <tr>\n",
       "      <th>23</th>\n",
       "      <td>1993</td>\n",
       "      <td>6079666.0</td>\n",
       "      <td>87294901.0</td>\n",
       "      <td>259919.0</td>\n",
       "      <td>8.29</td>\n",
       "      <td>-81215235.0</td>\n",
       "    </tr>\n",
       "    <tr>\n",
       "      <th>24</th>\n",
       "      <td>1994</td>\n",
       "      <td>5987182.0</td>\n",
       "      <td>89010871.0</td>\n",
       "      <td>263126.0</td>\n",
       "      <td>8.33</td>\n",
       "      <td>-83023689.0</td>\n",
       "    </tr>\n",
       "    <tr>\n",
       "      <th>25</th>\n",
       "      <td>1995</td>\n",
       "      <td>6557340.0</td>\n",
       "      <td>90994804.0</td>\n",
       "      <td>266278.0</td>\n",
       "      <td>8.31</td>\n",
       "      <td>-84437464.0</td>\n",
       "    </tr>\n",
       "    <tr>\n",
       "      <th>26</th>\n",
       "      <td>1996</td>\n",
       "      <td>7010925.0</td>\n",
       "      <td>94005127.0</td>\n",
       "      <td>269394.0</td>\n",
       "      <td>8.77</td>\n",
       "      <td>-86994202.0</td>\n",
       "    </tr>\n",
       "    <tr>\n",
       "      <th>27</th>\n",
       "      <td>1997</td>\n",
       "      <td>7014369.0</td>\n",
       "      <td>94656503.0</td>\n",
       "      <td>272647.0</td>\n",
       "      <td>8.83</td>\n",
       "      <td>-87642134.0</td>\n",
       "    </tr>\n",
       "    <tr>\n",
       "      <th>28</th>\n",
       "      <td>1998</td>\n",
       "      <td>6492811.0</td>\n",
       "      <td>94933482.0</td>\n",
       "      <td>275854.0</td>\n",
       "      <td>8.22</td>\n",
       "      <td>-88440671.0</td>\n",
       "    </tr>\n",
       "    <tr>\n",
       "      <th>29</th>\n",
       "      <td>1999</td>\n",
       "      <td>6516608.0</td>\n",
       "      <td>96525849.0</td>\n",
       "      <td>279040.0</td>\n",
       "      <td>8.58</td>\n",
       "      <td>-90009241.0</td>\n",
       "    </tr>\n",
       "    <tr>\n",
       "      <th>30</th>\n",
       "      <td>2000</td>\n",
       "      <td>6101765.0</td>\n",
       "      <td>98694756.0</td>\n",
       "      <td>282162.0</td>\n",
       "      <td>10.33</td>\n",
       "      <td>-92592991.0</td>\n",
       "    </tr>\n",
       "    <tr>\n",
       "      <th>31</th>\n",
       "      <td>2001</td>\n",
       "      <td>5166212.0</td>\n",
       "      <td>96039305.0</td>\n",
       "      <td>284969.0</td>\n",
       "      <td>10.78</td>\n",
       "      <td>-90873093.0</td>\n",
       "    </tr>\n",
       "    <tr>\n",
       "      <th>32</th>\n",
       "      <td>2002</td>\n",
       "      <td>5730989.0</td>\n",
       "      <td>97542524.0</td>\n",
       "      <td>287625.0</td>\n",
       "      <td>10.10</td>\n",
       "      <td>-91811535.0</td>\n",
       "    </tr>\n",
       "    <tr>\n",
       "      <th>33</th>\n",
       "      <td>2003</td>\n",
       "      <td>5942573.0</td>\n",
       "      <td>97834963.0</td>\n",
       "      <td>290108.0</td>\n",
       "      <td>11.44</td>\n",
       "      <td>-91892390.0</td>\n",
       "    </tr>\n",
       "    <tr>\n",
       "      <th>34</th>\n",
       "      <td>2004</td>\n",
       "      <td>6062797.0</td>\n",
       "      <td>100013933.0</td>\n",
       "      <td>292805.0</td>\n",
       "      <td>12.90</td>\n",
       "      <td>-93951136.0</td>\n",
       "    </tr>\n",
       "    <tr>\n",
       "      <th>35</th>\n",
       "      <td>2005</td>\n",
       "      <td>6219457.0</td>\n",
       "      <td>100109605.0</td>\n",
       "      <td>295517.0</td>\n",
       "      <td>15.57</td>\n",
       "      <td>-93890148.0</td>\n",
       "    </tr>\n",
       "    <tr>\n",
       "      <th>36</th>\n",
       "      <td>2006</td>\n",
       "      <td>6586516.0</td>\n",
       "      <td>99388264.0</td>\n",
       "      <td>298380.0</td>\n",
       "      <td>17.40</td>\n",
       "      <td>-92801748.0</td>\n",
       "    </tr>\n",
       "    <tr>\n",
       "      <th>37</th>\n",
       "      <td>2007</td>\n",
       "      <td>6510750.0</td>\n",
       "      <td>100916415.0</td>\n",
       "      <td>301231.0</td>\n",
       "      <td>18.34</td>\n",
       "      <td>-94405665.0</td>\n",
       "    </tr>\n",
       "    <tr>\n",
       "      <th>38</th>\n",
       "      <td>2008</td>\n",
       "      <td>7192158.0</td>\n",
       "      <td>98765251.0</td>\n",
       "      <td>304094.0</td>\n",
       "      <td>21.53</td>\n",
       "      <td>-91573093.0</td>\n",
       "    </tr>\n",
       "    <tr>\n",
       "      <th>39</th>\n",
       "      <td>2009</td>\n",
       "      <td>7625727.0</td>\n",
       "      <td>93970180.0</td>\n",
       "      <td>306772.0</td>\n",
       "      <td>17.26</td>\n",
       "      <td>-86344453.0</td>\n",
       "    </tr>\n",
       "    <tr>\n",
       "      <th>40</th>\n",
       "      <td>2010</td>\n",
       "      <td>8315006.0</td>\n",
       "      <td>97513781.0</td>\n",
       "      <td>309327.0</td>\n",
       "      <td>18.92</td>\n",
       "      <td>-89198775.0</td>\n",
       "    </tr>\n",
       "    <tr>\n",
       "      <th>41</th>\n",
       "      <td>2011</td>\n",
       "      <td>9301571.0</td>\n",
       "      <td>96868658.0</td>\n",
       "      <td>311583.0</td>\n",
       "      <td>21.87</td>\n",
       "      <td>-87567087.0</td>\n",
       "    </tr>\n",
       "    <tr>\n",
       "      <th>42</th>\n",
       "      <td>2012</td>\n",
       "      <td>8889306.0</td>\n",
       "      <td>94366760.0</td>\n",
       "      <td>313878.0</td>\n",
       "      <td>21.84</td>\n",
       "      <td>-85477454.0</td>\n",
       "    </tr>\n",
       "    <tr>\n",
       "      <th>43</th>\n",
       "      <td>2013</td>\n",
       "      <td>9422721.0</td>\n",
       "      <td>97106124.0</td>\n",
       "      <td>316060.0</td>\n",
       "      <td>21.42</td>\n",
       "      <td>-87683403.0</td>\n",
       "    </tr>\n",
       "    <tr>\n",
       "      <th>44</th>\n",
       "      <td>2014</td>\n",
       "      <td>9775755.0</td>\n",
       "      <td>98279417.0</td>\n",
       "      <td>318386.0</td>\n",
       "      <td>21.33</td>\n",
       "      <td>-88503662.0</td>\n",
       "    </tr>\n",
       "    <tr>\n",
       "      <th>45</th>\n",
       "      <td>2015</td>\n",
       "      <td>9743161.0</td>\n",
       "      <td>97378350.0</td>\n",
       "      <td>320739.0</td>\n",
       "      <td>17.31</td>\n",
       "      <td>-87635189.0</td>\n",
       "    </tr>\n",
       "    <tr>\n",
       "      <th>46</th>\n",
       "      <td>2016</td>\n",
       "      <td>10445341.0</td>\n",
       "      <td>97351106.0</td>\n",
       "      <td>323072.0</td>\n",
       "      <td>15.95</td>\n",
       "      <td>-86905765.0</td>\n",
       "    </tr>\n",
       "    <tr>\n",
       "      <th>47</th>\n",
       "      <td>2017</td>\n",
       "      <td>11225892.0</td>\n",
       "      <td>97628486.0</td>\n",
       "      <td>325122.0</td>\n",
       "      <td>17.32</td>\n",
       "      <td>-86402594.0</td>\n",
       "    </tr>\n",
       "    <tr>\n",
       "      <th>48</th>\n",
       "      <td>2018</td>\n",
       "      <td>11540403.0</td>\n",
       "      <td>101193066.0</td>\n",
       "      <td>326838.0</td>\n",
       "      <td>18.61</td>\n",
       "      <td>-89652663.0</td>\n",
       "    </tr>\n",
       "    <tr>\n",
       "      <th>49</th>\n",
       "      <td>2019</td>\n",
       "      <td>11563117.0</td>\n",
       "      <td>100357531.0</td>\n",
       "      <td>328330.0</td>\n",
       "      <td>17.96</td>\n",
       "      <td>-88794414.0</td>\n",
       "    </tr>\n",
       "    <tr>\n",
       "      <th>50</th>\n",
       "      <td>2020</td>\n",
       "      <td>11613541.0</td>\n",
       "      <td>92862342.0</td>\n",
       "      <td>331501.0</td>\n",
       "      <td>16.25</td>\n",
       "      <td>-81248801.0</td>\n",
       "    </tr>\n",
       "  </tbody>\n",
       "</table>\n",
       "</div>"
      ],
      "text/plain": [
       "    year  production  consumption  population  price    variance\n",
       "0   1970   4070021.0   67720114.0    205052.0   1.65 -63650093.0\n",
       "1   1971   4262212.0   69163993.0    207661.0   1.76 -64901781.0\n",
       "2   1972   4382009.0   72677208.0    209896.0   1.84 -68295199.0\n",
       "3   1973   4410938.0   75723857.0    211909.0   2.02 -71312919.0\n",
       "4   1974   4741851.0   73914525.0    213854.0   2.87 -69172674.0\n",
       "5   1975   4687119.0   71953031.0    215973.0   3.33 -67265912.0\n",
       "6   1976   4727151.0   75966653.0    218035.0   3.57 -71239502.0\n",
       "7   1977   4208966.0   77946963.0    220239.0   3.98 -73737997.0\n",
       "8   1978   5005439.0   79978066.0    222585.0   4.23 -74972627.0\n",
       "9   1979   5122854.0   80835915.0    225055.0   5.22 -75713061.0\n",
       "10  1980   5424534.0   78047519.0    227225.0   6.89 -72622985.0\n",
       "11  1981   5417152.0   76093624.0    229466.0   8.04 -70676472.0\n",
       "12  1982   5980930.0   73006067.0    231664.0   8.47 -67025137.0\n",
       "13  1983   6495613.0   72879382.0    233792.0   8.40 -66383769.0\n",
       "14  1984   6438346.0   76510942.0    235825.0   8.30 -70072596.0\n",
       "15  1985   6084015.0   76406632.0    237924.0   8.38 -70322617.0\n",
       "16  1986   6111141.0   76592009.0    240133.0   7.32 -70480868.0\n",
       "17  1987   5624499.0   78960216.0    242289.0   7.36 -73335717.0\n",
       "18  1988   5456756.0   82711222.0    244499.0   7.29 -77254466.0\n",
       "19  1989   6234679.0   84731917.0    246819.0   7.59 -78497238.0\n",
       "20  1990   6041914.0   84455309.0    249623.0   8.29 -78413395.0\n",
       "21  1991   6067807.0   84379032.0    252981.0   8.25 -78311225.0\n",
       "22  1992   5820575.0   85731678.0    256514.0   8.16 -79911103.0\n",
       "23  1993   6079666.0   87294901.0    259919.0   8.29 -81215235.0\n",
       "24  1994   5987182.0   89010871.0    263126.0   8.33 -83023689.0\n",
       "25  1995   6557340.0   90994804.0    266278.0   8.31 -84437464.0\n",
       "26  1996   7010925.0   94005127.0    269394.0   8.77 -86994202.0\n",
       "27  1997   7014369.0   94656503.0    272647.0   8.83 -87642134.0\n",
       "28  1998   6492811.0   94933482.0    275854.0   8.22 -88440671.0\n",
       "29  1999   6516608.0   96525849.0    279040.0   8.58 -90009241.0\n",
       "30  2000   6101765.0   98694756.0    282162.0  10.33 -92592991.0\n",
       "31  2001   5166212.0   96039305.0    284969.0  10.78 -90873093.0\n",
       "32  2002   5730989.0   97542524.0    287625.0  10.10 -91811535.0\n",
       "33  2003   5942573.0   97834963.0    290108.0  11.44 -91892390.0\n",
       "34  2004   6062797.0  100013933.0    292805.0  12.90 -93951136.0\n",
       "35  2005   6219457.0  100109605.0    295517.0  15.57 -93890148.0\n",
       "36  2006   6586516.0   99388264.0    298380.0  17.40 -92801748.0\n",
       "37  2007   6510750.0  100916415.0    301231.0  18.34 -94405665.0\n",
       "38  2008   7192158.0   98765251.0    304094.0  21.53 -91573093.0\n",
       "39  2009   7625727.0   93970180.0    306772.0  17.26 -86344453.0\n",
       "40  2010   8315006.0   97513781.0    309327.0  18.92 -89198775.0\n",
       "41  2011   9301571.0   96868658.0    311583.0  21.87 -87567087.0\n",
       "42  2012   8889306.0   94366760.0    313878.0  21.84 -85477454.0\n",
       "43  2013   9422721.0   97106124.0    316060.0  21.42 -87683403.0\n",
       "44  2014   9775755.0   98279417.0    318386.0  21.33 -88503662.0\n",
       "45  2015   9743161.0   97378350.0    320739.0  17.31 -87635189.0\n",
       "46  2016  10445341.0   97351106.0    323072.0  15.95 -86905765.0\n",
       "47  2017  11225892.0   97628486.0    325122.0  17.32 -86402594.0\n",
       "48  2018  11540403.0  101193066.0    326838.0  18.61 -89652663.0\n",
       "49  2019  11563117.0  100357531.0    328330.0  17.96 -88794414.0\n",
       "50  2020  11613541.0   92862342.0    331501.0  16.25 -81248801.0"
      ]
     },
     "execution_count": 3,
     "metadata": {},
     "output_type": "execute_result"
    }
   ],
   "source": [
    "#calulate excess between produced and consumed\n",
    "usmodels_df[\"variance\"] = usmodels_df[\"production\"]-usmodels_df[\"consumption\"]\n",
    "usmodels_df"
   ]
  },
  {
   "cell_type": "code",
   "execution_count": 10,
   "id": "ec673c32",
   "metadata": {},
   "outputs": [],
   "source": [
    "# select the features \n",
    "X = usmodels_df[[\"year\", \"production\", \"population\", \"price\"]]\n",
    "y = usmodels_df[\"variance\"].values.reshape(-1,1)"
   ]
  },
  {
   "cell_type": "code",
   "execution_count": 11,
   "id": "f9e1cef3",
   "metadata": {},
   "outputs": [],
   "source": [
    "# train test and split\n",
    "X_train, X_test, y_train, y_test = train_test_split(X, y, random_state=42)"
   ]
  },
  {
   "cell_type": "code",
   "execution_count": 7,
   "id": "b638ac70",
   "metadata": {},
   "outputs": [
    {
     "data": {
      "text/plain": [
       "LinearRegression()"
      ]
     },
     "execution_count": 7,
     "metadata": {},
     "output_type": "execute_result"
    }
   ],
   "source": [
    "# create the linear regresson model\n",
    "model = LinearRegression()\n",
    "model.fit(X_train, y_train)"
   ]
  },
  {
   "cell_type": "code",
   "execution_count": 8,
   "id": "5255c7a8",
   "metadata": {},
   "outputs": [
    {
     "name": "stdout",
     "output_type": "stream",
     "text": [
      "6533261654383.541 0.926085147366005\n"
     ]
    }
   ],
   "source": [
    "#show mse and r2 score\n",
    "predictions = model.predict(X_test)\n",
    "MSE = mean_squared_error(y_test, predictions)\n",
    "r2 = model.score(X_test, y_test)\n",
    "print(MSE, r2)\n"
   ]
  },
  {
   "cell_type": "code",
   "execution_count": null,
   "id": "300347d5",
   "metadata": {},
   "outputs": [],
   "source": [
    "#use linear regression to prediction the future for the features\n"
   ]
  },
  {
   "cell_type": "code",
   "execution_count": 13,
   "id": "9da0321b",
   "metadata": {},
   "outputs": [
    {
     "data": {
      "text/plain": [
       "<matplotlib.collections.PathCollection at 0x23e48f00460>"
      ]
     },
     "execution_count": 13,
     "metadata": {},
     "output_type": "execute_result"
    },
    {
     "data": {
      "image/png": "[encoded data removed]",
      "text/plain": [
       "<Figure size 432x288 with 1 Axes>"
      ]
     },
     "metadata": {
      "needs_background": "light"
     },
     "output_type": "display_data"
    }
   ],
   "source": [
    "#create price prediction\n",
    "X1 = usmodels_df[\"year\"].values.reshape(-1,1)\n",
    "y1 = usmodels_df[\"price\"].values.reshape(-1,1)\n",
    "plt.scatter(X1,y1)"
   ]
  },
  {
   "cell_type": "code",
   "execution_count": 14,
   "id": "89d9bd17",
   "metadata": {},
   "outputs": [],
   "source": [
    "# train test and split\n",
    "X1_train, X1_test, y1_train, y1_test = train_test_split(X1, y1, random_state=42)"
   ]
  },
  {
   "cell_type": "code",
   "execution_count": 15,
   "id": "64d17354",
   "metadata": {},
   "outputs": [
    {
     "data": {
      "text/plain": [
       "LinearRegression()"
      ]
     },
     "execution_count": 15,
     "metadata": {},
     "output_type": "execute_result"
    }
   ],
   "source": [
    "#create price linear regression model\n",
    "modelprice = LinearRegression()\n",
    "modelprice.fit(X1_train, y1_train)\n"
   ]
  },
  {
   "cell_type": "code",
   "execution_count": 16,
   "id": "a6ffd3f4",
   "metadata": {},
   "outputs": [
    {
     "name": "stdout",
     "output_type": "stream",
     "text": [
      "5.53472193871103 0.8225362992194662\n"
     ]
    }
   ],
   "source": [
    "# use mean_squared_error \n",
    "\n",
    "predictionsprice = modelprice.predict(X1_test)\n",
    "MSE1 = mean_squared_error(y1_test, predictionsprice)\n",
    "r2 = modelprice.score(X1_test, y1_test)\n",
    "\n",
    "print(MSE1, r2)"
   ]
  },
  {
   "cell_type": "code",
   "execution_count": 17,
   "id": "0f7b48ec",
   "metadata": {},
   "outputs": [
    {
     "data": {
      "text/plain": [
       "[20.86740511949222,\n",
       " 21.253420346535336,\n",
       " 21.639435573578567,\n",
       " 22.025450800621797,\n",
       " 22.41146602766503,\n",
       " 22.79748125470826,\n",
       " 23.18349648175149,\n",
       " 23.56951170879472,\n",
       " 23.955526935837952,\n",
       " 24.341542162881183,\n",
       " 24.727557389924414,\n",
       " 25.113572616967645,\n",
       " 25.499587844010875,\n",
       " 25.885603071054106,\n",
       " 26.271618298097337]"
      ]
     },
     "execution_count": 17,
     "metadata": {},
     "output_type": "execute_result"
    }
   ],
   "source": [
    "# predict the price from 2021 to 2035\n",
    "price = []\n",
    "\n",
    "for x in range(2021, 2036):\n",
    "    p = modelprice.predict([[x]])\n",
    "    price.append(float(p))\n",
    "    \n",
    "price"
   ]
  },
  {
   "cell_type": "code",
   "execution_count": 18,
   "id": "ee2712a2",
   "metadata": {},
   "outputs": [
    {
     "data": {
      "text/plain": [
       "<matplotlib.collections.PathCollection at 0x23e48f866a0>"
      ]
     },
     "execution_count": 18,
     "metadata": {},
     "output_type": "execute_result"
    },
    {
     "data": {
      "image/png": "[encoded data removed]",
      "text/plain": [
       "<Figure size 432x288 with 1 Axes>"
      ]
     },
     "metadata": {
      "needs_background": "light"
     },
     "output_type": "display_data"
    }
   ],
   "source": [
    "#create population prediction\n",
    "X2 = usmodels_df[\"year\"].values.reshape(-1,1)\n",
    "y2 = usmodels_df[\"population\"].values.reshape(-1,1)\n",
    "plt.scatter(X2,y2)"
   ]
  },
  {
   "cell_type": "code",
   "execution_count": 19,
   "id": "3bd0234b",
   "metadata": {},
   "outputs": [],
   "source": [
    "# train test and split\n",
    "X2_train, X2_test, y2_train, y2_test = train_test_split(X2, y2, random_state=42)\n"
   ]
  },
  {
   "cell_type": "code",
   "execution_count": 20,
   "id": "adb00bd4",
   "metadata": {},
   "outputs": [
    {
     "data": {
      "text/plain": [
       "LinearRegression()"
      ]
     },
     "execution_count": 20,
     "metadata": {},
     "output_type": "execute_result"
    }
   ],
   "source": [
    "#create population linear regression model\n",
    "modelpop = LinearRegression()\n",
    "modelpop.fit(X2_train, y2_train)\n"
   ]
  },
  {
   "cell_type": "code",
   "execution_count": 21,
   "id": "20840dae",
   "metadata": {},
   "outputs": [
    {
     "name": "stdout",
     "output_type": "stream",
     "text": [
      "3985842.8025597837 0.9973741005735772\n"
     ]
    }
   ],
   "source": [
    "# use mean_squared_error \n",
    "\n",
    "predictionspop = modelpop.predict(X2_test)\n",
    "MSE2 = mean_squared_error(y2_test, predictionspop)\n",
    "r2 = modelpop.score(X2_test, y2_test)\n",
    "\n",
    "print(MSE2, r2)"
   ]
  },
  {
   "cell_type": "code",
   "execution_count": 22,
   "id": "59fc5c86",
   "metadata": {},
   "outputs": [
    {
     "data": {
      "text/plain": [
       "[336085.91595313326,\n",
       " 338731.22238856275,\n",
       " 341376.52882399224,\n",
       " 344021.8352594208,\n",
       " 346667.1416948503,\n",
       " 349312.4481302798,\n",
       " 351957.75456570927,\n",
       " 354603.06100113876,\n",
       " 357248.3674365673,\n",
       " 359893.6738719968,\n",
       " 362538.9803074263,\n",
       " 365184.2867428558,\n",
       " 367829.5931782853,\n",
       " 370474.8996137148,\n",
       " 373120.20604914334]"
      ]
     },
     "execution_count": 22,
     "metadata": {},
     "output_type": "execute_result"
    }
   ],
   "source": [
    "# predict the price from 2021 to 2035\n",
    "population = []\n",
    "for x in range(2021, 2036):\n",
    "    k = modelpop.predict([[x]])\n",
    "    population.append(float(k))\n",
    "    \n",
    "population"
   ]
  },
  {
   "cell_type": "code",
   "execution_count": 23,
   "id": "2561b78b",
   "metadata": {},
   "outputs": [
    {
     "data": {
      "text/plain": [
       "<matplotlib.collections.PathCollection at 0x23e48ff3460>"
      ]
     },
     "execution_count": 23,
     "metadata": {},
     "output_type": "execute_result"
    },
    {
     "data": {
      "image/png": "[encoded data removed]",
      "text/plain": [
       "<Figure size 432x288 with 1 Axes>"
      ]
     },
     "metadata": {
      "needs_background": "light"
     },
     "output_type": "display_data"
    }
   ],
   "source": [
    "#create production prediction\n",
    "X3 = usmodels_df[\"year\"].values.reshape(-1,1)\n",
    "y3 = usmodels_df[\"production\"].values.reshape(-1,1)\n",
    "plt.scatter(X3,y3)"
   ]
  },
  {
   "cell_type": "code",
   "execution_count": 24,
   "id": "e2778e68",
   "metadata": {},
   "outputs": [],
   "source": [
    "# train test and split\n",
    "X3_train, X3_test, y3_train, y3_test = train_test_split(X3, y3, random_state=42)"
   ]
  },
  {
   "cell_type": "code",
   "execution_count": 25,
   "id": "e81244dd",
   "metadata": {},
   "outputs": [
    {
     "data": {
      "text/plain": [
       "LinearRegression()"
      ]
     },
     "execution_count": 25,
     "metadata": {},
     "output_type": "execute_result"
    }
   ],
   "source": [
    "#create production linear regression model\n",
    "modelprod = LinearRegression()\n",
    "modelprod.fit(X3_train, y3_train)\n"
   ]
  },
  {
   "cell_type": "code",
   "execution_count": 26,
   "id": "42e6ccc7",
   "metadata": {},
   "outputs": [
    {
     "name": "stdout",
     "output_type": "stream",
     "text": [
      "1419407471618.3945 0.6971068516616239\n"
     ]
    }
   ],
   "source": [
    "# use mean_squared_error\n",
    "predictionsprod = modelprod.predict(X3_test)\n",
    "MSE3 = mean_squared_error(y3_test, predictionsprod)\n",
    "r2 = modelprod.score(X3_test, y3_test)\n",
    "\n",
    "print(MSE3, r2)"
   ]
  },
  {
   "cell_type": "code",
   "execution_count": 27,
   "id": "db8125a6",
   "metadata": {},
   "outputs": [
    {
     "data": {
      "text/plain": [
       "[9803617.862046212,\n",
       " 9921656.48791936,\n",
       " 10039695.113792509,\n",
       " 10157733.739665657,\n",
       " 10275772.365538806,\n",
       " 10393810.991411954,\n",
       " 10511849.617285103,\n",
       " 10629888.243158251,\n",
       " 10747926.86903143,\n",
       " 10865965.494904578,\n",
       " 10984004.120777726,\n",
       " 11102042.746650875,\n",
       " 11220081.372524023,\n",
       " 11338119.998397171,\n",
       " 11456158.62427032]"
      ]
     },
     "execution_count": 27,
     "metadata": {},
     "output_type": "execute_result"
    }
   ],
   "source": [
    "# predict the renewable production from 2021 to 2035\n",
    "production = []\n",
    "for x in range(2021, 2036):\n",
    "    l = modelprod.predict([[x]])\n",
    "    production.append(float(l))\n",
    "\n",
    "production\n"
   ]
  },
  {
   "cell_type": "code",
   "execution_count": 28,
   "id": "614d73b3",
   "metadata": {},
   "outputs": [
    {
     "data": {
      "text/plain": [
       "<matplotlib.collections.PathCollection at 0x23e49060310>"
      ]
     },
     "execution_count": 28,
     "metadata": {},
     "output_type": "execute_result"
    },
    {
     "data": {
      "image/png": "[encoded data removed]",
      "text/plain": [
       "<Figure size 432x288 with 1 Axes>"
      ]
     },
     "metadata": {
      "needs_background": "light"
     },
     "output_type": "display_data"
    }
   ],
   "source": [
    "#create consumption predictions\n",
    "X4 = usmodels_df[\"year\"].values.reshape(-1,1)\n",
    "y4 = usmodels_df[\"consumption\"].values.reshape(-1,1)\n",
    "plt.scatter(X4,y4)"
   ]
  },
  {
   "cell_type": "code",
   "execution_count": 29,
   "id": "204e04bf",
   "metadata": {},
   "outputs": [],
   "source": [
    "# train test and split\n",
    "X4_train, X4_test, y4_train, y4_test = train_test_split(X4, y4, random_state=42)"
   ]
  },
  {
   "cell_type": "code",
   "execution_count": 30,
   "id": "8b8be66d",
   "metadata": {},
   "outputs": [
    {
     "data": {
      "text/plain": [
       "LinearRegression()"
      ]
     },
     "execution_count": 30,
     "metadata": {},
     "output_type": "execute_result"
    }
   ],
   "source": [
    "#create consumption linear regression model\n",
    "modelcons = LinearRegression()\n",
    "modelcons.fit(X4_train, y4_train)"
   ]
  },
  {
   "cell_type": "code",
   "execution_count": 31,
   "id": "fbe71c86",
   "metadata": {},
   "outputs": [
    {
     "name": "stdout",
     "output_type": "stream",
     "text": [
      "19957600154609.332 0.8181798570593897\n"
     ]
    }
   ],
   "source": [
    "# use mean_squared_error \n",
    "predictionscons = modelcons.predict(X4_test)\n",
    "MSE4 = mean_squared_error(y4_test, predictionscons)\n",
    "r2 = modelcons.score(X4_test, y4_test)\n",
    "\n",
    "print(MSE4, r2)\n"
   ]
  },
  {
   "cell_type": "code",
   "execution_count": 32,
   "id": "51963963",
   "metadata": {},
   "outputs": [
    {
     "data": {
      "text/plain": [
       "[104821125.52050829,\n",
       " 105473329.40555215,\n",
       " 106125533.29059601,\n",
       " 106777737.17563987,\n",
       " 107429941.06068373,\n",
       " 108082144.94572759,\n",
       " 108734348.83077145,\n",
       " 109386552.7158153,\n",
       " 110038756.60085917,\n",
       " 110690960.48590302,\n",
       " 111343164.37094688,\n",
       " 111995368.2559905,\n",
       " 112647572.14103436,\n",
       " 113299776.02607822,\n",
       " 113951979.91112208]"
      ]
     },
     "execution_count": 32,
     "metadata": {},
     "output_type": "execute_result"
    }
   ],
   "source": [
    "# predict the renewable consumption from 2021 to 2035\n",
    "consumption = []\n",
    "for x in range(2021, 2036):\n",
    "    c = modelcons.predict([[x]])\n",
    "    consumption.append(float(c))\n",
    "\n",
    "consumption\n"
   ]
  },
  {
   "cell_type": "code",
   "execution_count": 33,
   "id": "17b70069",
   "metadata": {},
   "outputs": [
    {
     "data": {
      "text/plain": [
       "[-95017507.65846229,\n",
       " -95551672.91763282,\n",
       " -96085838.17680383,\n",
       " -96620003.43597412,\n",
       " -97154168.69514513,\n",
       " -97688333.95431566,\n",
       " -98222499.2134862,\n",
       " -98756664.4726572,\n",
       " -99290829.7318275,\n",
       " -99824994.99099827,\n",
       " -100359160.2501688,\n",
       " -100893325.50933981,\n",
       " -101427490.76851034,\n",
       " -101961656.02768135,\n",
       " -102495821.28685188]"
      ]
     },
     "execution_count": 33,
     "metadata": {},
     "output_type": "execute_result"
    }
   ],
   "source": [
    "# use all data from predictions to calculate future variance\n",
    "variance = []\n",
    "\n",
    "listresults = [[2021,9803617.862046212,336085.91595313326,20.86740511949222], \n",
    "             [2022,9921656.48791936, 338731.22238856275,21.253420346535336],\n",
    "             [2023, 10039695.113792509,341376.52882399224,21.639435573578567],\n",
    "             [2024,10157733.739665657,344021.8352594208,22.025450800621797],\n",
    "             [2025, 10275772.365538806,346667.1416948503,22.41146602766503],\n",
    "             [2026,10393810.991411954,349312.4481302798,22.79748125470826],\n",
    "             [2027,10511849.617285103,351957.75456570927,23.18349648175149],\n",
    "             [2028,10629888.243158251,354603.06100113876,23.56951170879472],\n",
    "             [2029,10747926.86903143,357248.3674365673,23.955526935837952],\n",
    "             [2030,10865965.494904578,359893.6738719968,24.341542162881183],\n",
    "             [2031,10984004.120777726,362538.9803074263,24.727557389924414],\n",
    "             [2032,11102042.746650875,365184.2867428558,25.113572616967645],\n",
    "             [2033,11220081.372524023,367829.5931782853,25.499587844010875], \n",
    "            [2034,11338119.998397171,370474.8996137148,25.885603071054106], \n",
    "            [2035,11456158.62427032,373120.20604914334,26.271618298097337]] \n",
    "\n",
    "for x in listresults:\n",
    "    v = model.predict([x])\n",
    "    variance.append(float(v))\n",
    "    \n",
    "variance \n"
   ]
  },
  {
   "cell_type": "code",
   "execution_count": 34,
   "id": "5c2e4ea8",
   "metadata": {},
   "outputs": [
    {
     "data": {
      "text/html": [
       "<div>\n",
       "<style scoped>\n",
       "    .dataframe tbody tr th:only-of-type {\n",
       "        vertical-align: middle;\n",
       "    }\n",
       "\n",
       "    .dataframe tbody tr th {\n",
       "        vertical-align: top;\n",
       "    }\n",
       "\n",
       "    .dataframe thead th {\n",
       "        text-align: right;\n",
       "    }\n",
       "</style>\n",
       "<table border=\"1\" class=\"dataframe\">\n",
       "  <thead>\n",
       "    <tr style=\"text-align: right;\">\n",
       "      <th></th>\n",
       "      <th>year</th>\n",
       "      <th>produced_renewable</th>\n",
       "      <th>total_consumed</th>\n",
       "      <th>population</th>\n",
       "      <th>energy_price</th>\n",
       "      <th>difference</th>\n",
       "    </tr>\n",
       "  </thead>\n",
       "  <tbody>\n",
       "    <tr>\n",
       "      <th>0</th>\n",
       "      <td>2021</td>\n",
       "      <td>9.803618e+06</td>\n",
       "      <td>1.048211e+08</td>\n",
       "      <td>336085.915953</td>\n",
       "      <td>20.867405</td>\n",
       "      <td>-9.501751e+07</td>\n",
       "    </tr>\n",
       "    <tr>\n",
       "      <th>1</th>\n",
       "      <td>2022</td>\n",
       "      <td>9.921656e+06</td>\n",
       "      <td>1.054733e+08</td>\n",
       "      <td>338731.222389</td>\n",
       "      <td>21.253420</td>\n",
       "      <td>-9.555167e+07</td>\n",
       "    </tr>\n",
       "    <tr>\n",
       "      <th>2</th>\n",
       "      <td>2023</td>\n",
       "      <td>1.003970e+07</td>\n",
       "      <td>1.061255e+08</td>\n",
       "      <td>341376.528824</td>\n",
       "      <td>21.639436</td>\n",
       "      <td>-9.608584e+07</td>\n",
       "    </tr>\n",
       "    <tr>\n",
       "      <th>3</th>\n",
       "      <td>2024</td>\n",
       "      <td>1.015773e+07</td>\n",
       "      <td>1.067777e+08</td>\n",
       "      <td>344021.835259</td>\n",
       "      <td>22.025451</td>\n",
       "      <td>-9.662000e+07</td>\n",
       "    </tr>\n",
       "    <tr>\n",
       "      <th>4</th>\n",
       "      <td>2025</td>\n",
       "      <td>1.027577e+07</td>\n",
       "      <td>1.074299e+08</td>\n",
       "      <td>346667.141695</td>\n",
       "      <td>22.411466</td>\n",
       "      <td>-9.715417e+07</td>\n",
       "    </tr>\n",
       "    <tr>\n",
       "      <th>5</th>\n",
       "      <td>2026</td>\n",
       "      <td>1.039381e+07</td>\n",
       "      <td>1.080821e+08</td>\n",
       "      <td>349312.448130</td>\n",
       "      <td>22.797481</td>\n",
       "      <td>-9.768833e+07</td>\n",
       "    </tr>\n",
       "    <tr>\n",
       "      <th>6</th>\n",
       "      <td>2027</td>\n",
       "      <td>1.051185e+07</td>\n",
       "      <td>1.087343e+08</td>\n",
       "      <td>351957.754566</td>\n",
       "      <td>23.183496</td>\n",
       "      <td>-9.822250e+07</td>\n",
       "    </tr>\n",
       "    <tr>\n",
       "      <th>7</th>\n",
       "      <td>2028</td>\n",
       "      <td>1.062989e+07</td>\n",
       "      <td>1.093866e+08</td>\n",
       "      <td>354603.061001</td>\n",
       "      <td>23.569512</td>\n",
       "      <td>-9.875666e+07</td>\n",
       "    </tr>\n",
       "    <tr>\n",
       "      <th>8</th>\n",
       "      <td>2029</td>\n",
       "      <td>1.074793e+07</td>\n",
       "      <td>1.100388e+08</td>\n",
       "      <td>357248.367437</td>\n",
       "      <td>23.955527</td>\n",
       "      <td>-9.929083e+07</td>\n",
       "    </tr>\n",
       "    <tr>\n",
       "      <th>9</th>\n",
       "      <td>2030</td>\n",
       "      <td>1.086597e+07</td>\n",
       "      <td>1.106910e+08</td>\n",
       "      <td>359893.673872</td>\n",
       "      <td>24.341542</td>\n",
       "      <td>-9.982499e+07</td>\n",
       "    </tr>\n",
       "    <tr>\n",
       "      <th>10</th>\n",
       "      <td>2031</td>\n",
       "      <td>1.098400e+07</td>\n",
       "      <td>1.113432e+08</td>\n",
       "      <td>362538.980307</td>\n",
       "      <td>24.727557</td>\n",
       "      <td>-1.003592e+08</td>\n",
       "    </tr>\n",
       "    <tr>\n",
       "      <th>11</th>\n",
       "      <td>2032</td>\n",
       "      <td>1.110204e+07</td>\n",
       "      <td>1.119954e+08</td>\n",
       "      <td>365184.286743</td>\n",
       "      <td>25.113573</td>\n",
       "      <td>-1.008933e+08</td>\n",
       "    </tr>\n",
       "    <tr>\n",
       "      <th>12</th>\n",
       "      <td>2033</td>\n",
       "      <td>1.122008e+07</td>\n",
       "      <td>1.126476e+08</td>\n",
       "      <td>367829.593178</td>\n",
       "      <td>25.499588</td>\n",
       "      <td>-1.014275e+08</td>\n",
       "    </tr>\n",
       "    <tr>\n",
       "      <th>13</th>\n",
       "      <td>2034</td>\n",
       "      <td>1.133812e+07</td>\n",
       "      <td>1.132998e+08</td>\n",
       "      <td>370474.899614</td>\n",
       "      <td>25.885603</td>\n",
       "      <td>-1.019617e+08</td>\n",
       "    </tr>\n",
       "    <tr>\n",
       "      <th>14</th>\n",
       "      <td>2035</td>\n",
       "      <td>1.145616e+07</td>\n",
       "      <td>1.139520e+08</td>\n",
       "      <td>373120.206049</td>\n",
       "      <td>26.271618</td>\n",
       "      <td>-1.024958e+08</td>\n",
       "    </tr>\n",
       "  </tbody>\n",
       "</table>\n",
       "</div>"
      ],
      "text/plain": [
       "    year  produced_renewable  total_consumed     population  energy_price  \\\n",
       "0   2021        9.803618e+06    1.048211e+08  336085.915953     20.867405   \n",
       "1   2022        9.921656e+06    1.054733e+08  338731.222389     21.253420   \n",
       "2   2023        1.003970e+07    1.061255e+08  341376.528824     21.639436   \n",
       "3   2024        1.015773e+07    1.067777e+08  344021.835259     22.025451   \n",
       "4   2025        1.027577e+07    1.074299e+08  346667.141695     22.411466   \n",
       "5   2026        1.039381e+07    1.080821e+08  349312.448130     22.797481   \n",
       "6   2027        1.051185e+07    1.087343e+08  351957.754566     23.183496   \n",
       "7   2028        1.062989e+07    1.093866e+08  354603.061001     23.569512   \n",
       "8   2029        1.074793e+07    1.100388e+08  357248.367437     23.955527   \n",
       "9   2030        1.086597e+07    1.106910e+08  359893.673872     24.341542   \n",
       "10  2031        1.098400e+07    1.113432e+08  362538.980307     24.727557   \n",
       "11  2032        1.110204e+07    1.119954e+08  365184.286743     25.113573   \n",
       "12  2033        1.122008e+07    1.126476e+08  367829.593178     25.499588   \n",
       "13  2034        1.133812e+07    1.132998e+08  370474.899614     25.885603   \n",
       "14  2035        1.145616e+07    1.139520e+08  373120.206049     26.271618   \n",
       "\n",
       "      difference  \n",
       "0  -9.501751e+07  \n",
       "1  -9.555167e+07  \n",
       "2  -9.608584e+07  \n",
       "3  -9.662000e+07  \n",
       "4  -9.715417e+07  \n",
       "5  -9.768833e+07  \n",
       "6  -9.822250e+07  \n",
       "7  -9.875666e+07  \n",
       "8  -9.929083e+07  \n",
       "9  -9.982499e+07  \n",
       "10 -1.003592e+08  \n",
       "11 -1.008933e+08  \n",
       "12 -1.014275e+08  \n",
       "13 -1.019617e+08  \n",
       "14 -1.024958e+08  "
      ]
     },
     "execution_count": 34,
     "metadata": {},
     "output_type": "execute_result"
    }
   ],
   "source": [
    "# create dictionary for future years predictions\n",
    "predictionresults_dict = {\n",
    "    \"year\":[2021, 2022, 2023, 2024, 2025, 2026, 2027, 2028, 2029, 2030, 2031, 2032, 2033, 2034, 2035],\n",
    "    \"produced_renewable\": production,\n",
    "    \"total_consumed\": consumption,\n",
    "    \"population\": population,\n",
    "    \"energy_price\": price,\n",
    "    \"difference\": variance\n",
    "}\n",
    "\n",
    "# create new dataframe with predictions\n",
    "predictionresults_df = pd.DataFrame(predictionresults_dict)\n",
    "predictionresults_df"
   ]
  },
  {
   "cell_type": "code",
   "execution_count": null,
   "id": "2e613cd9",
   "metadata": {},
   "outputs": [],
   "source": [
    "# save new prediction results dataframe to csv\n",
    "#predictionresults_df.to_csv(\"static/csv/us_future_predictions.csv\",index=False, float_format='%.1f')\n"
   ]
  },
  {
   "cell_type": "code",
   "execution_count": null,
   "id": "420f8bef",
   "metadata": {},
   "outputs": [],
   "source": [
    "# rename columns of original cleaned dataframe to make them more descriptive\n",
    "usmodels_df = usmodels_df.rename(columns={'production': 'produced_renewable', 'consumption': 'total_consumed', ' price': 'energy_price', 'variance': 'difference'})\n",
    "usmodels_df"
   ]
  },
  {
   "cell_type": "code",
   "execution_count": null,
   "id": "74b771a8",
   "metadata": {},
   "outputs": [],
   "source": [
    "# combine original dataframe in new prediction dataframe\n",
    "dfs = [usmodels_df, predictionresults_df]\n",
    "full_us_df = pd.concat(dfs, ignore_index=True)\n",
    "pd.options.display.float_format = '{:.1f}'.format\n",
    "full_us_df"
   ]
  },
  {
   "cell_type": "code",
   "execution_count": null,
   "id": "274760b0",
   "metadata": {},
   "outputs": [],
   "source": [
    "# export to csv\n",
    "#full_us_df.to_csv(\"static/csv/full_us_data.csv\",index=False, float_format='%.1f')"
   ]
  },
  {
   "cell_type": "code",
   "execution_count": null,
   "id": "7f9a8dec",
   "metadata": {},
   "outputs": [],
   "source": []
  }
 ],
 "metadata": {
  "kernelspec": {
   "display_name": "Python [conda env:.conda-PythonData38] *",
   "language": "python",
   "name": "conda-env-.conda-PythonData38-py"
  },
  "language_info": {
   "codemirror_mode": {
    "name": "ipython",
    "version": 3
   },
   "file_extension": ".py",
   "mimetype": "text/x-python",
   "name": "python",
   "nbconvert_exporter": "python",
   "pygments_lexer": "ipython3",
   "version": "3.8.12"
  }
 },
 "nbformat": 4,
 "nbformat_minor": 5
}
