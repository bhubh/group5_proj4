{
 "cells": [
  {
   "cell_type": "code",
   "execution_count": null,
   "id": "73c15888",
   "metadata": {},
   "outputs": [],
   "source": [
    "%matplotlib inline\n",
    "import matplotlib.pyplot as plt\n",
    "import pandas as pd\n",
    "import numpy as np\n",
    "import sklearn\n",
    "from sklearn.model_selection import train_test_split\n",
    "from sklearn.linear_model import LinearRegression\n",
    "from sklearn.metrics import mean_squared_error, r2_score\n"
   ]
  },
  {
   "cell_type": "code",
   "execution_count": null,
   "id": "2e102357",
   "metadata": {},
   "outputs": [],
   "source": [
    "# Import the data\n",
    "pred_states_df = pd.read_csv(\"states_energy_merged.csv\")\n",
    "pred_states_df.head()"
   ]
  },
  {
   "cell_type": "code",
   "execution_count": null,
   "id": "c2d02f8f",
   "metadata": {},
   "outputs": [],
   "source": [
    "# Dropping consumption column\n",
    "pred_states_df = pred_states_df.drop(['consumption'], axis=1)\n",
    "\n",
    "pred_states_df.head()"
   ]
  },
  {
   "cell_type": "code",
   "execution_count": null,
   "id": "92f8cae2",
   "metadata": {},
   "outputs": [],
   "source": [
    "# Create state data frame test  for Illinois\n",
    "\n",
    "test_df = pred_states_df.loc[(pred_states_df['Year'] >= 2000) & (pred_states_df['State'] == 'Illinois')]\n",
    "display(test_df.head())\n",
    "\n",
    "# display(test_df.tail())\n",
    "test_df.loc[test_df['Year'] == 2020, 'production'].values[0]"
   ]
  },
  {
   "cell_type": "markdown",
   "id": "3f99f674",
   "metadata": {},
   "source": [
    "<h1>Multiple Liner Regression Test for Illinois</h1>"
   ]
  },
  {
   "cell_type": "code",
   "execution_count": null,
   "id": "e3d4f4a4",
   "metadata": {},
   "outputs": [],
   "source": [
    "# Find future value for only state of Illinois\n",
    "# Test is run on Produced Renewable Column using simple LR\n",
    "\n",
    "# Select X & y values\n",
    "X = test_df[['Year']].values.reshape(-1,1)\n",
    "y = test_df[['production']].values.reshape(-1,1)\n",
    "\n",
    "print(f'X shape: {X.shape}')\n",
    "print(f'y shape: {y.shape}')"
   ]
  },
  {
   "cell_type": "code",
   "execution_count": null,
   "id": "05bf5e70",
   "metadata": {},
   "outputs": [],
   "source": [
    "# Plot the data \n",
    "\n",
    "plt.scatter(X,y)"
   ]
  },
  {
   "cell_type": "code",
   "execution_count": null,
   "id": "8336f3bf",
   "metadata": {},
   "outputs": [],
   "source": [
    "# Train and Test Sets\n",
    "X_train, X_test, y_train, y_test = train_test_split(X, y, random_state=69)"
   ]
  },
  {
   "cell_type": "code",
   "execution_count": null,
   "id": "880063b3",
   "metadata": {},
   "outputs": [],
   "source": [
    "# Creating a Linear Regression(LR) model\n",
    "\n",
    "model = LinearRegression()\n",
    "model.fit(X_train, y_train)"
   ]
  },
  {
   "cell_type": "code",
   "execution_count": null,
   "id": "c3ad2aaf",
   "metadata": {},
   "outputs": [],
   "source": [
    "# Calculate the model's scores\n",
    "\n",
    "trng_score = model.score(X_train, y_train)\n",
    "testing_score = model.score(X_test, y_test)\n",
    "\n",
    "print(f\"Training Score: {trng_score}\")\n",
    "print(f\"Testing Score: {trng_score}\")"
   ]
  },
  {
   "cell_type": "code",
   "execution_count": null,
   "id": "01541b7b",
   "metadata": {},
   "outputs": [],
   "source": [
    "# Use the model to make predictions\n",
    "\n",
    "predicted = model.predict(X_test)"
   ]
  },
  {
   "cell_type": "code",
   "execution_count": null,
   "id": "d70e16fa",
   "metadata": {},
   "outputs": [],
   "source": [
    "# Score the predictions with mse and r2\n",
    "mse = mean_squared_error(y_test, predicted)\n",
    "r2 = r2_score(y_test, predicted)\n",
    "\n",
    "print(f\"Mean Squared Error (MSE): {mse}\")\n",
    "print(f\"R-squared (R2): {r2}\")\n",
    "\n",
    "\n",
    "predictions = model.predict(X_test[:5])\n",
    "print(f\"Predicted classes: {predictions}\")\n",
    "\n",
    "n_2025 = model.predict([[2025]])\n",
    "n_2030 = model.predict([[2030]])\n",
    "n_2035 = model.predict([[2035]])\n",
    "\n",
    "print('''''')\n",
    "print(f\"Illinois Renewable Energy Production in 2020: {int(test_df.loc[test_df['Year'] == 2020, 'production'].values[0])}\")\n",
    "\n",
    "print('''''')      \n",
    "print(f'Prediction for 2025: {int(n_2025[0][0])}')\n",
    "      \n",
    "print('''''')      \n",
    "print(f'Prediction for 2030: {int(n_2030[0][0])}')\n",
    "      \n",
    "print('''''')      \n",
    "print(f'Prediction for 2030: {int(n_2035[0][0])}')"
   ]
  },
  {
   "cell_type": "markdown",
   "id": "0cf435e3",
   "metadata": {},
   "source": [
    "<h1>Finding the Best Scores R-Squared (R2)</h1>"
   ]
  },
  {
   "cell_type": "code",
   "execution_count": null,
   "id": "52b50194",
   "metadata": {},
   "outputs": [],
   "source": [
    "# Import the data\n",
    "pred_states_df = pd.read_csv(\"states_energy_merged.csv\")"
   ]
  },
  {
   "cell_type": "code",
   "execution_count": null,
   "id": "65d34a76",
   "metadata": {},
   "outputs": [],
   "source": [
    "\n",
    "# Dropping consumption column\n",
    "pred_states_df = pred_states_df.drop(['consumption'], axis=1)\n",
    "\n",
    "pred_states_df.head()"
   ]
  },
  {
   "cell_type": "code",
   "execution_count": null,
   "id": "18749c5b",
   "metadata": {},
   "outputs": [],
   "source": [
    "# Get arrays of states, scores\n",
    "pred_states = pred_states_df[\"State\"].unique()\n",
    "rp_r2_scores = []\n",
    "rp_r2_averages = []\n",
    "\n",
    "GDP_r2_scores = []\n",
    "GDP_r2_averages = []\n",
    "\n",
    "pop_r2_scores = []\n",
    "pop_r2_averages = []\n",
    "\n",
    "ep_r2_scores = []\n",
    "ep_r2_averages = []"
   ]
  },
  {
   "cell_type": "code",
   "execution_count": null,
   "id": "a406420e",
   "metadata": {},
   "outputs": [],
   "source": [
    "# Create mean function\n",
    "def mean(array):\n",
    "    length_arr = len(array)\n",
    "    sum_arr = sum(array)\n",
    "    \n",
    "    return sum_arr / length_arr  "
   ]
  },
  {
   "cell_type": "code",
   "execution_count": null,
   "id": "a6ea9d47",
   "metadata": {},
   "outputs": [],
   "source": [
    "# Create the Loop\n",
    "\n",
    "for n in range(101):\n",
    "    for state in states:\n",
    "        \n",
    "pred_states_df = pred_states_df.loc[(pred_states_df[\"State\"] == state) & (pred_states_df[\"Year\"] >= 1970)]\n"
   ]
  },
  {
   "cell_type": "markdown",
   "id": "429686d1",
   "metadata": {},
   "source": [
    "<h1>Renewable Production</h1>"
   ]
  },
  {
   "cell_type": "code",
   "execution_count": null,
   "id": "be7a8ce5",
   "metadata": {},
   "outputs": [],
   "source": [
    "# Select X & y for Renewable Production (RP) and reshape for each state\n",
    "rp_X = pred_states_df[['Year']].values.reshape(-1,1)\n",
    "rp_y = pred_statess_df[['Prod. Renewable (Bil. Btu)']].values.reshape(-1,1)"
   ]
  },
  {
   "cell_type": "code",
   "execution_count": null,
   "id": "270e5cf4",
   "metadata": {},
   "outputs": [],
   "source": [
    "# Split Renewable Production Data into training & test data\n",
    "rp_x_train, rp_x_test, rp_y_train, rp_y_test = train_test_split(rp_X, rp_y, random_state= n)"
   ]
  },
  {
   "cell_type": "code",
   "execution_count": null,
   "id": "8958aefa",
   "metadata": {},
   "outputs": [],
   "source": [
    "# Create and fit the models for each state for Renewable Production\n",
    "model = LinearRegression()\n",
    "model.fit(rp_x_train, rp_y_train)"
   ]
  },
  {
   "cell_type": "code",
   "execution_count": null,
   "id": "dd0bd5b0",
   "metadata": {},
   "outputs": [],
   "source": [
    "# Calculate the Renewable Production testing & training scores\n",
    "rp_training_score = model.score(rp_x_train, rp_y_train)\n",
    "rp_testing_score = model.score(rp_x_test, rp_y_test)      "
   ]
  },
  {
   "cell_type": "code",
   "execution_count": null,
   "id": "79c2242e",
   "metadata": {},
   "outputs": [],
   "source": [
    "# Use the model to make Renewable Production predictions\n",
    "rp_predicted = model.predict(rp_x_test)"
   ]
  },
  {
   "cell_type": "code",
   "execution_count": null,
   "id": "66f4983d",
   "metadata": {},
   "outputs": [],
   "source": [
    "# Score the Renewable Production predictions with mse and r2 for each state\n",
    "rp_mse = mean_squared_error(rp_y_test, rp_predicted)\n",
    "rp_r2 = r2_score(rp_y_test, rp_predicted)"
   ]
  },
  {
   "cell_type": "code",
   "execution_count": null,
   "id": "39d27adb",
   "metadata": {},
   "outputs": [],
   "source": [
    "# Populate Renewable Production r2 score array for averaging later\n",
    "rp_r2_scores.append(rp_r2)"
   ]
  },
  {
   "cell_type": "markdown",
   "id": "0315c543",
   "metadata": {},
   "source": [
    "<h1>Current-Dollar Gross Domestic Product (GDP)</h1>"
   ]
  },
  {
   "cell_type": "code",
   "execution_count": null,
   "id": "fcbc35ab",
   "metadata": {},
   "outputs": [],
   "source": [
    "# Select X & y for GDP and reshape for each state\n",
    "gdp_x = pred_states_df[['Year']].values.reshape(-1,1)\n",
    "gdp_y = pred_states_df[['GDP (Millions)']].values.reshape(-1,1)"
   ]
  },
  {
   "cell_type": "code",
   "execution_count": null,
   "id": "99baa116",
   "metadata": {},
   "outputs": [],
   "source": [
    "# Split GDP Data into training & test data\n",
    "gdp_x_train, gdp_x_test, gdp_y_train, gdp_y_test = train_test_split(gdp_x, gdp_y, random_state= n)"
   ]
  },
  {
   "cell_type": "code",
   "execution_count": null,
   "id": "696ac027",
   "metadata": {},
   "outputs": [],
   "source": [
    "# Create and fit the models for each state for GDP\n",
    "model = LinearRegression()\n",
    "model.fit(gdp_x_train, gdp_y_train)"
   ]
  },
  {
   "cell_type": "code",
   "execution_count": null,
   "id": "28a62a13",
   "metadata": {},
   "outputs": [],
   "source": [
    "# Calculate the GDP testing & training scores\n",
    "gdp_training_score = model.score(gdp_x_train, gdp_y_train)\n",
    "gdp_testing_score = model.score(gdp_x_test, gdp_y_test)"
   ]
  },
  {
   "cell_type": "code",
   "execution_count": null,
   "id": "e87dd85b",
   "metadata": {},
   "outputs": [],
   "source": [
    "# Use the model to make GDP predictions\n",
    "gdp_predicted = model.predict(gdp_x_test)"
   ]
  },
  {
   "cell_type": "code",
   "execution_count": null,
   "id": "ffc80e3f",
   "metadata": {},
   "outputs": [],
   "source": [
    "# Score the GDP predictions with mse and r2 for each state\n",
    "gdp_mse = mean_squared_error(gdp_y_test, gdp_predicted)\n",
    "gdp_r2 = r2_score(gdp_y_test, gdp_predicted)"
   ]
  },
  {
   "cell_type": "code",
   "execution_count": null,
   "id": "834a3b65",
   "metadata": {},
   "outputs": [],
   "source": [
    "# Populate GDP r2 score array for averaging later\n",
    "gdp_r2_scores.append(gdp_r2)"
   ]
  },
  {
   "cell_type": "markdown",
   "id": "ac666e7a",
   "metadata": {},
   "source": [
    "<h1>Population</h1>"
   ]
  },
  {
   "cell_type": "code",
   "execution_count": null,
   "id": "fff1da26",
   "metadata": {},
   "outputs": [],
   "source": [
    "# Select X & y for Population (Pop.) and reshape for each state\n",
    "pop_x = pred_states_df[['Year']].values.reshape(-1,1)\n",
    "pop_y = pred_states_df[['Pop. (1000s)']].values.reshape(-1,1)"
   ]
  },
  {
   "cell_type": "code",
   "execution_count": null,
   "id": "82cb6380",
   "metadata": {},
   "outputs": [],
   "source": [
    "# Split Pop. Data into training & test data\n",
    "pop_x_train, pop_x_test, pop_y_train, pop_y_test = train_test_split(pop_x, pop_y, random_state= n)"
   ]
  },
  {
   "cell_type": "code",
   "execution_count": null,
   "id": "cd3c6841",
   "metadata": {},
   "outputs": [],
   "source": [
    "# Create and fit the models for each state for pop\n",
    "model = LinearRegression()\n",
    "model.fit(pop_X_train, pop_y_train)"
   ]
  },
  {
   "cell_type": "code",
   "execution_count": null,
   "id": "0eda897a",
   "metadata": {},
   "outputs": [],
   "source": [
    "# Calculate the Pop. testing & training scores\n",
    "pop_training_score = model.score(pop_x_train, pop_y_train)\n",
    "pop_testing_score = model.score(pop_x_test, pop_y_test)"
   ]
  },
  {
   "cell_type": "code",
   "execution_count": null,
   "id": "a044e2f9",
   "metadata": {},
   "outputs": [],
   "source": [
    "# Use the model to make Pop. predictions\n",
    "pop_predicted = model.predict(pop_x_test)"
   ]
  },
  {
   "cell_type": "code",
   "execution_count": null,
   "id": "b805e32e",
   "metadata": {},
   "outputs": [],
   "source": [
    "# Score the Pop. predictions with mse and r2 for each state\n",
    "pop_mse = mean_squared_error(pop_y_test, pop_predicted)\n",
    "pop_r2 = r2_score(pop_y_test, pop_predicted)"
   ]
  },
  {
   "cell_type": "code",
   "execution_count": null,
   "id": "ff7134a5",
   "metadata": {},
   "outputs": [],
   "source": [
    "# Populate Pop. r2 score array for averaging later\n",
    "pop_r2_scores.append(pop_r2)"
   ]
  },
  {
   "cell_type": "markdown",
   "id": "a0d9b825",
   "metadata": {},
   "source": [
    "<h1>Energy Price</h1>"
   ]
  },
  {
   "cell_type": "code",
   "execution_count": null,
   "id": "675c2750",
   "metadata": {},
   "outputs": [],
   "source": [
    "# Select X & y for Energy Price and reshape for each state\n",
    "ep_x = pred_states_df[['Year']].values.reshape(-1,1)\n",
    "ep_y = pred_states_df[['Energy Pr. ($/mil. btu)']].values.reshape(-1,1)"
   ]
  },
  {
   "cell_type": "code",
   "execution_count": null,
   "id": "0fcb40e0",
   "metadata": {},
   "outputs": [],
   "source": [
    "# Split Energy Price Data into training & test data\n",
    "ep_x_train, ep_x_test, ep_y_train, ep_y_test = train_test_split(ep_x, ep_y, random_state= n)"
   ]
  },
  {
   "cell_type": "code",
   "execution_count": null,
   "id": "36cfa478",
   "metadata": {},
   "outputs": [],
   "source": [
    "# Create and fit the models for each state for Energy Price\n",
    "model = LinearRegression()\n",
    "model.fit(ep_X_train, ep_y_train)"
   ]
  },
  {
   "cell_type": "code",
   "execution_count": null,
   "id": "c8675fea",
   "metadata": {},
   "outputs": [],
   "source": [
    "# Calculate the Energy Price testing & training scores\n",
    "ep_training_score = model.score(ep_x_train, ep_y_train)\n",
    "ep_testing_score = model.score(ep_x_test, ep_y_test)"
   ]
  },
  {
   "cell_type": "code",
   "execution_count": null,
   "id": "5cccb606",
   "metadata": {},
   "outputs": [],
   "source": [
    "# Use the model to make Energy Price predictions\n",
    "ep_predicted = model.predict(ep_x_test)"
   ]
  },
  {
   "cell_type": "code",
   "execution_count": null,
   "id": "0dc2c202",
   "metadata": {},
   "outputs": [],
   "source": [
    "# Score the Energy Price predictions with mse and r2 for each state\n",
    "ep_mse = mean_squared_error(ep_y_test, ep_predicted)\n",
    "ep_r2 = r2_score(ep_y_test, ep_predicted)"
   ]
  },
  {
   "cell_type": "code",
   "execution_count": null,
   "id": "8aaf55b9",
   "metadata": {},
   "outputs": [],
   "source": [
    "# Populate Energy Price r2 score array for averaging later\n",
    "ep_r2_scores.append(ep_r2)"
   ]
  },
  {
   "cell_type": "code",
   "execution_count": null,
   "id": "e66f7053",
   "metadata": {},
   "outputs": [],
   "source": [
    "# Import the data\n",
    "pred_states_df = pd.read_csv(\"Resources/????????.csv\")"
   ]
  },
  {
   "cell_type": "code",
   "execution_count": null,
   "id": "dd526db3",
   "metadata": {},
   "outputs": [],
   "source": [
    "# Dropping consumption column\n",
    "pred_states = pred_states.drop(['Unnamed: 0'], axis=1)\n",
    "pred_states_df = pred_states_df.rename(columns={'Produced Renewable(Billion Btu)': 'Prod. Renewable (Bil. Btu)',\n",
    "                                      'Total Consumed(Billion Btu)': 'Total Consumed (Bil. Btu)',\n",
    "                                     'GDP(Million dollars)': 'GDP (Millions)', 'Population(Thousand)' : 'Pop. (1000s)',\n",
    "                                     'Energy Price(dollars per million btu)': 'Energy Pr. ($/mil. btu)'})"
   ]
  },
  {
   "cell_type": "code",
   "execution_count": null,
   "id": "50d41c08",
   "metadata": {},
   "outputs": [],
   "source": [
    "#Append average R2 scores for all features to respective lists\n",
    "rp_r2_averages.append(mean(rp_r2_scores)) \n",
    "GDP_r2_averages.append(mean(GDP_r2_scores))\n",
    "pop_r2_averages.append(mean(pop_r2_scores))\n",
    "ep_r2_averages.append(mean(ep_r2_scores))       "
   ]
  },
  {
   "cell_type": "code",
   "execution_count": null,
   "id": "a20d26e4",
   "metadata": {},
   "outputs": [],
   "source": [
    "# Finding best Renewable Production R2 Score\n",
    "score_index = 0        \n",
    " for score in rp_r2_averages:\n",
    "     if score == max(rp_r2_averages):\n",
    "         print(f\"Best Renewable Production R2 Seed: {score_index}, Best RP R2 Score: {score}\")\n",
    "    \n",
    "     score_index += 1\n",
    "    \n",
    "# Finding best GDP R2 Score\n",
    "score_index = 0        \n",
    " for score in GDP_r2_averages:\n",
    "     if score == max(GDP_r2_averages):\n",
    "         print(f\"Best GDP R2 Seed: {score_index}, Best GDP R2 Score: {score}\")\n",
    "    \n",
    "     score_index += 1    \n",
    "\n",
    "# Finding best Population R2 Score\n",
    "score_index = 0        \n",
    " for score in pop_r2_averages:\n",
    "     if score == max(pop_r2_averages):\n",
    "         print(f\"Best Population R2 Seed: {score_index}, Best Population R2 Score: {score}\")\n",
    "    \n",
    "     score_index += 1 \n",
    "    \n",
    "# Finding best Energy Price R2 Score\n",
    "score_index = 0        \n",
    " for score in ep_r2_averages:\n",
    "     if score == max(ep_r2_averages):\n",
    "         print(f\"Best Energy Price R2 Seed: {score_index}, Best Energy Price R2 Score: {score}\")\n",
    "    \n",
    "     score_index += 1 "
   ]
  },
  {
   "cell_type": "markdown",
   "id": "bffe7ff3",
   "metadata": {},
   "source": [
    "<h1>Multiple Liner Regression to Predict State Energy Difference</h1>"
   ]
  },
  {
   "cell_type": "code",
   "execution_count": null,
   "id": "15a5f150",
   "metadata": {},
   "outputs": [],
   "source": [
    "# Import the data\n",
    "pred_states_df = pd.read_csv(\"Resources/????????.csv\")"
   ]
  },
  {
   "cell_type": "code",
   "execution_count": null,
   "id": "bbd715f4",
   "metadata": {},
   "outputs": [],
   "source": [
    "# Dropping consumption column\n",
    "pred_states = pred_states.drop(['Unnamed: 0'], axis=1)\n",
    "pred_states_df = pred_states_df.rename(columns={'Produced Renewable(Billion Btu)': 'Prod. Renewable (Bil. Btu)',\n",
    "                                      'Total Consumed(Billion Btu)': 'Total Consumed (Bil. Btu)',\n",
    "                                     'GDP(Million dollars)': 'GDP (Millions)', 'Population(Thousand)' : 'Pop. (1000s)',\n",
    "                                     'Energy Price(dollars per million btu)': 'Energy Pr. ($/mil. btu)'})"
   ]
  },
  {
   "cell_type": "code",
   "execution_count": null,
   "id": "2058ce88",
   "metadata": {},
   "outputs": [],
   "source": [
    "states = pred_states_df[\"State\"].unique()\n",
    "\n",
    "state_dicts = {}\n",
    "\n",
    "for state in states:\n",
    "\n",
    "    df = pred_states_df.loc[pred_states_df['State'] == state]\n",
    "    \n",
    "    \n",
    "    # Population #\n",
    "    #============#\n",
    "\n",
    "    x = df['Year'].values.reshape(-1,1)\n",
    "    y = df['Pop. (1000s)'].values.reshape(-1,1)\n",
    "\n",
    "\n",
    "    x_train, x_test, y_train, y_test = train_test_split(X, y, random_state= 14)\n",
    "\n",
    "    # Create and fit the models for each state for RP\n",
    "    model = LinearRegression()\n",
    "    model.fit(x_train, y_train)\n",
    "\n",
    "    # Calculate the RP testing & training scores\n",
    "    trng_score = model.score(x_train, y_train)\n",
    "    testing_score = model.score(x_test, y_test)\n",
    "\n",
    "    # Use our models to make RP predictions\n",
    "    predicted = model.predict(x_test)\n",
    "\n",
    "    # Score the ep predictions with mse and r2 for each state\n",
    "    mse = mean_squared_error(y_test, predicted)\n",
    "    r2 = r2_score(y_test, predicted)\n",
    "\n",
    "    # Make predictions for RP with MLR\n",
    "    pop_predictions = []\n",
    "    for i in range(2021, 2035):\n",
    "        i_prediction = model.predict([[i]])\n",
    "        pop_predictions.append(float(i_prediction))\n",
    "        \n",
    "        \n",
    "    df = pred_states_df.loc[pred_states_df['State'] == state]  \n",
    "\n",
    "    \n",
    "     # Renewable Production #\n",
    "    #======================#\n",
    "\n",
    "    x = df['Year'].values.reshape(-1,1)\n",
    "    y = df['Prod. Renewable (Bil. Btu)'].values.reshape(-1,1)\n",
    "\n",
    "\n",
    "    x_train, x_test, y_train, y_test = train_test_split(x, y, random_state= 14)\n",
    "\n",
    "    # Create and fit the models for each state for RP\n",
    "    model = LinearRegression()\n",
    "    model.fit(x_train, y_train)\n",
    "\n",
    "    # Calculate the RP testing & training scores\n",
    "    trng_score = model.score(x_train, y_train)\n",
    "    testing_score = model.score(x_test, y_test)\n",
    "\n",
    "    # Use our models to make RP predictions\n",
    "    predicted = model.predict(x_test)\n",
    "\n",
    "    # Score the ep predictions with mse and r2 for each state\n",
    "    mse = mean_squared_error(y_test, predicted)\n",
    "    r2 = r2_score(y_test, predicted)\n",
    "\n",
    "    # Make predictions for RP with MLR\n",
    "    rp_predictions = []\n",
    "    for i in range(2021, 2035):\n",
    "        i_prediction = model.predict([[i]])\n",
    "        rp_predictions.append(float(i_prediction))\n",
    "        \n",
    "        \n",
    "     # Energy Price #\n",
    "     #==============#\n",
    "\n",
    "    x = df['Year'].values.reshape(-1,1)\n",
    "    y = df['Energy Pr. ($/mil. btu)'].values.reshape(-1,1)\n",
    "\n",
    "\n",
    "    x_train, x_test, y_train, y_test = train_test_split(x, y, random_state= 14)\n",
    "\n",
    "    # Create and fit the models for each state for RP\n",
    "    model = LinearRegression()\n",
    "    model.fit(x_train, y_train)\n",
    "\n",
    "    # Calculate the RP testing & training scores\n",
    "    trng_score = model.score(x_train, y_train)\n",
    "    testing_score = model.score(x_test, y_test)\n",
    "\n",
    "    # Use our models to make RP predictions\n",
    "    predicted = model.predict(x_test)\n",
    "\n",
    "    # Score the ep predictions with mse and r2 for each state\n",
    "    mse = mean_squared_error(y_test, predicted)\n",
    "    r2 = r2_score(y_test, predicted)\n",
    "\n",
    "    # Make predictions for RP with MLR\n",
    "    ep_predictions = []\n",
    "    for i in range(2021, 2035):\n",
    "        i_prediction = model.predict([[i]])\n",
    "        ep_predictions.append(float(i_prediction))\n",
    "        \n",
    "    \n",
    "    #  Consumption  #\n",
    "    #==============#\n",
    "\n",
    "    X = df['Year'].values.reshape(-1,1)\n",
    "    y = df['Total Consumed (Bil. Btu)'].values.reshape(-1,1)\n",
    "\n",
    "\n",
    "    X_train, X_test, y_train, y_test = train_test_split(X, y, random_state= 14)\n",
    "\n",
    "    # Create and fit the models for each state for RP\n",
    "    model = LinearRegression()\n",
    "    model.fit(X_train, y_train)\n",
    "\n",
    "    # Calculate the RP testing & training scores\n",
    "    trng_score = model.score(X_train, y_train)\n",
    "    testing_score = model.score(X_test, y_test)\n",
    "\n",
    "    # Use our models to make RP predictions\n",
    "    predicted = model.predict(X_test)\n",
    "\n",
    "    # Score the ep predictions with mse and r2 for each state\n",
    "    mse = mean_squared_error(y_test, predicted)\n",
    "    r2 = r2_score(y_test, predicted)\n",
    "\n",
    "    # Make predictions for RP with MLR\n",
    "    consume_predictions = []\n",
    "    for i in range(2018, 2031):\n",
    "        i_prediction = model.predict([[i]])\n",
    "        consume_predictions.append(float(i_prediction))\n",
    "    \n",
    "    \n",
    "    \n",
    "    # Energy Difference #\n",
    "    #==================#\n",
    "\n",
    "    x = df['Year'].values.reshape(-1,1)\n",
    "    y = df['Difference'].values.reshape(-1,1)\n",
    "\n",
    "\n",
    "    x_train, x_test, y_train, y_test = train_test_split(x, y, random_state= 14)\n",
    "\n",
    "    # Create and fit the models for each state for RP\n",
    "    model = LinearRegression()\n",
    "    model.fit(x_train, y_train)\n",
    "\n",
    "    # Calculate the RP testing & training scores\n",
    "    trng_score = model.score(x_train, y_train)\n",
    "    testing_score = model.score(X_test, y_test)\n",
    "\n",
    "    # Use our models to make RP predictions\n",
    "    predicted = model.predict(x_test)\n",
    "\n",
    "    # Score the ep predictions with mse and r2 for each state\n",
    "    mse = mean_squared_error(y_test, predicted)\n",
    "    r2 = r2_score(y_test, predicted)\n",
    "\n",
    "    # Make predictions for RP with MLR\n",
    "    ed_predictions = []\n",
    "    for i in range(2021, 2035):\n",
    "        i_prediction = model.predict([[i]])\n",
    "        ed_predictions.append(float(i_prediction))\n",
    "    \n",
    "        \n",
    "    # Update States Dictionary\n",
    "    state_dicts.update({state: {\n",
    "                        'State': list([state] * len(range(2021, 2035))),\n",
    "                        'Year': list(range(2021, 2035)),\n",
    "                        'Prod. Renewable (Bil. Btu)': rp_predictions,\n",
    "                        'Pop. (1000s)': pop_predictions,\n",
    "                        'Energy Pr. ($/mil. btu)': ep_predictions,\n",
    "                        'Total Consumed (Bil. Btu)': consume_predictions,\n",
    "                        'Difference': ed_predictions\n",
    "                        }})\n",
    "pred_states_df\n",
    "pred_state_dicts"
   ]
  },
  {
   "cell_type": "code",
   "execution_count": null,
   "id": "f58866e7",
   "metadata": {},
   "outputs": [],
   "source": [
    "# Create Dictionary of DataFrames\n",
    "dfs = {}\n",
    "for state in pred_state_dicts:\n",
    "    dfs.update({state: pd.DataFrame(pred_state_dicts[state])})\n",
    "\n",
    "# Append new DataFrames to previous states_df\n",
    "for state in dfs:\n",
    "    pred_state_df = pred_state_df.append(dfs[state],ignore_index=True)\n",
    "\n",
    "\n",
    "pred_state_df = pred_state_df.sort_values(by=[\"State\",\"Year\"])\n",
    "pred_state_df.head()"
   ]
  },
  {
   "cell_type": "code",
   "execution_count": null,
   "id": "1c48f1e3",
   "metadata": {},
   "outputs": [],
   "source": [
    "X= pred_state_df.loc[states_df['State'] == \"Wisconsin\"]\n",
    "\n",
    "# Plot the data\n",
    "plt.scatter(X['Year'],X['Total Consumed (Bil. Btu)'])"
   ]
  },
  {
   "cell_type": "code",
   "execution_count": null,
   "id": "d49aced6",
   "metadata": {},
   "outputs": [],
   "source": [
    "pred_statess_df = pred_states_df[['State','Year','Prod. Renewable (Bil. Btu)','Pop. (1000s)','Energy Pr. ($/mil. btu)',\n",
    "                       'Total Consumed (Bil. Btu)','Difference']]"
   ]
  },
  {
   "cell_type": "code",
   "execution_count": null,
   "id": "7a4c1e08",
   "metadata": {},
   "outputs": [],
   "source": [
    "states_df.to_csv('\"Resources/&&&&&&&&&.csv\"', float_format='%.1f')"
   ]
  }
 ],
 "metadata": {
  "kernelspec": {
   "display_name": "Python [conda env:.conda-PythonData38] *",
   "language": "python",
   "name": "conda-env-.conda-PythonData38-py"
  },
  "language_info": {
   "codemirror_mode": {
    "name": "ipython",
    "version": 3
   },
   "file_extension": ".py",
   "mimetype": "text/x-python",
   "name": "python",
   "nbconvert_exporter": "python",
   "pygments_lexer": "ipython3",
   "version": "3.8.12"
  }
 },
 "nbformat": 4,
 "nbformat_minor": 5
}
