{
 "cells": [
  {
   "cell_type": "code",
   "execution_count": null,
   "metadata": {},
   "outputs": [],
   "source": [
    "%matplotlib inline\n",
    "import matplotlib.pyplot as plt\n",
    "import pandas as pd\n",
    "import numpy as np\n",
    "import sklearn\n",
    "from sklearn.model_selection import train_test_split\n",
    "from sklearn.linear_model import LinearRegression\n",
    "from sklearn.metrics import mean_squared_error"
   ]
  },
  {
   "cell_type": "code",
   "execution_count": null,
   "metadata": {},
   "outputs": [],
   "source": [
    "#import total data\n",
    "usmodels_df = pd.read_csv(\"us_energy_merged.csv\")\n",
    "usmodels_df.head()\n",
    "usmodels_df.tail(5)"
   ]
  },
  {
   "cell_type": "code",
   "execution_count": null,
   "metadata": {},
   "outputs": [],
   "source": [
    "#calulate excess between produced and consumed\n",
    "usmodels_df[\"deficit\"] = usmodels_df[\"production\"]-usmodels_df[\"consumption\"]\n",
    "usmodels_df1 = usmodels_df.drop([\"production\", \"consumption\", \"year\",\"population\", \"price\"], axis = 1)\n",
    "usmodels_df1.head()"
   ]
  },
  {
   "cell_type": "code",
   "execution_count": null,
   "metadata": {
    "scrolled": true
   },
   "outputs": [],
   "source": [
    "#Creating lagged features for time series data\n",
    "us_ts_df = pd.concat([usmodels_df1.shift(3), usmodels_df1.shift(2), usmodels_df1.shift(1), usmodels_df1], axis = 1)\n",
    "us_ts_df.columns = ['deficit_t-3', 'deficit_t-2', 'deficit_t-1', \"deficit_t\"]\n",
    "us_ts_df = us_ts_df.fillna(0)\n",
    "us_ts_df[['production', 'population', 'price']] = usmodels_df[['production', 'population', 'price']]\n",
    "us_ts_df.head()\n",
    "# us_ts_df.tail(5)"
   ]
  },
  {
   "cell_type": "code",
   "execution_count": null,
   "metadata": {},
   "outputs": [],
   "source": [
    "#creating linear regression model\n",
    "y = us_ts_df[\"deficit_t\"]\n",
    "X = us_ts_df.drop('deficit_t', axis = 1)\n"
   ]
  },
  {
   "cell_type": "code",
   "execution_count": null,
   "metadata": {},
   "outputs": [],
   "source": [
    "# train test and split\n",
    "X_train, X_test, y_train, y_test = train_test_split(X, y, random_state=42)"
   ]
  },
  {
   "cell_type": "code",
   "execution_count": null,
   "metadata": {},
   "outputs": [],
   "source": [
    "# create the linear regresson model\n",
    "model = LinearRegression()\n",
    "model.fit(X_train, y_train)"
   ]
  },
  {
   "cell_type": "code",
   "execution_count": null,
   "metadata": {},
   "outputs": [],
   "source": [
    "#show predictions\n",
    "predictions = model.predict(X_test)\n",
    "MSE = mean_squared_error(y_test, predictions)\n",
    "r2 = model.score(X_test, y_test)\n",
    "print(MSE, r2)\n"
   ]
  },
  {
   "cell_type": "code",
   "execution_count": null,
   "metadata": {
    "scrolled": false
   },
   "outputs": [],
   "source": [
    "#prediction for 2021\n",
    "X_2021 = [-89652663.0, -88794414.0, -81248801.0, 9803617.86,336085.916,20.87]\n",
    "y_2021 = model.predict([X_2021])\n",
    "y_2021\n",
    "print(f\"the time series with lag features prediction for 2021 was {y_2021*1e-6} whereas simple linregress prediction was -95.01 quad\")\n",
    "print(\"The real deficit for 2021 was -85.17\")"
   ]
  },
  {
   "cell_type": "code",
   "execution_count": null,
   "metadata": {},
   "outputs": [],
   "source": [
    "#plotting for 2021 predictions\n",
    "xp = ['with-lag-featues', 'no-lag-features', 'real']\n",
    "yp = [-93, -95, -85]\n",
    "plt.bar(xp,yp)"
   ]
  },
  {
   "cell_type": "code",
   "execution_count": null,
   "metadata": {},
   "outputs": [],
   "source": [
    "# for 2021 total consumption was 97.33 quadrillion, total renewable 12.16 quadrillion, difference\n",
    "# or deficit for 2021 = "
   ]
  }
 ],
 "metadata": {
  "kernelspec": {
   "display_name": "Python [conda env:PythonData38] *",
   "language": "python",
   "name": "conda-env-PythonData38-py"
  },
  "language_info": {
   "codemirror_mode": {
    "name": "ipython",
    "version": 3
   },
   "file_extension": ".py",
   "mimetype": "text/x-python",
   "name": "python",
   "nbconvert_exporter": "python",
   "pygments_lexer": "ipython3",
   "version": "3.8.5"
  }
 },
 "nbformat": 4,
 "nbformat_minor": 5
}
