{
 "cells": [
  {
   "cell_type": "code",
   "execution_count": null,
   "id": "73c15888",
   "metadata": {},
   "outputs": [],
   "source": [
    "%matplotlib inline\n",
    "import matplotlib.pyplot as plt\n",
    "import pandas as pd\n",
    "import numpy as np\n",
    "import sklearn\n",
    "from sklearn.model_selection import train_test_split\n",
    "from sklearn.linear_model import LinearRegression\n",
    "from sklearn.metrics import mean_squared_error, r2_score\n"
   ]
  },
  {
   "cell_type": "code",
   "execution_count": null,
   "id": "2e102357",
   "metadata": {},
   "outputs": [],
   "source": [
    "# Import the data\n",
    "pred_states_df = pd.read_csv(\"states_energy_merged.csv\")\n",
    "pred_states_df.head()"
   ]
  },
  {
   "cell_type": "code",
   "execution_count": null,
   "id": "c6f99f33",
   "metadata": {},
   "outputs": [],
   "source": []
  },
  {
   "cell_type": "code",
   "execution_count": null,
   "id": "c2d02f8f",
   "metadata": {},
   "outputs": [],
   "source": [
    "# Dropping consumption column\n",
    "pred_states_df = pred_states_df.drop(['consumption'], axis=1)\n",
    "\n",
    "pred_states_df.head()"
   ]
  },
  {
   "cell_type": "code",
   "execution_count": null,
   "id": "92f8cae2",
   "metadata": {},
   "outputs": [],
   "source": [
    "# Create state data frame test  for Illinois\n",
    "\n",
    "test_df = pred_states_df.loc[(pred_states_df['Year'] >= 2000) & (pred_states_df['State'] == 'Illinois')]\n",
    "display(test_df.head())\n",
    "\n",
    "# display(test_df.tail())\n",
    "test_df.loc[test_df['Year'] == 2020, 'production'].values[0]"
   ]
  },
  {
   "cell_type": "markdown",
   "id": "3f99f674",
   "metadata": {},
   "source": [
    "<h1>Multiple Liner Regression Test for Illinois</h1>"
   ]
  },
  {
   "cell_type": "code",
   "execution_count": null,
   "id": "e3d4f4a4",
   "metadata": {},
   "outputs": [],
   "source": [
    "# Find future value for only state of Illinois\n",
    "# Test is run on Produced Renewable Column using simple LR\n",
    "\n",
    "# Select X & y values\n",
    "X = test_df[['Year']].values.reshape(-1,1)\n",
    "y = test_df[['production']].values.reshape(-1,1)\n",
    "\n",
    "print(f'X shape: {X.shape}')\n",
    "print(f'y shape: {y.shape}')"
   ]
  },
  {
   "cell_type": "code",
   "execution_count": null,
   "id": "05bf5e70",
   "metadata": {},
   "outputs": [],
   "source": [
    "# Plot the data \n",
    "\n",
    "plt.scatter(X,y)"
   ]
  },
  {
   "cell_type": "code",
   "execution_count": null,
   "id": "8336f3bf",
   "metadata": {},
   "outputs": [],
   "source": [
    "# Train and Test Sets\n",
    "X_train, X_test, y_train, y_test = train_test_split(X, y, random_state=42)"
   ]
  },
  {
   "cell_type": "code",
   "execution_count": null,
   "id": "880063b3",
   "metadata": {},
   "outputs": [],
   "source": [
    "# Creating a Linear Regression(LR) model\n",
    "\n",
    "model = LinearRegression()\n",
    "model.fit(X_train, y_train)"
   ]
  },
  {
   "cell_type": "code",
   "execution_count": null,
   "id": "c3ad2aaf",
   "metadata": {},
   "outputs": [],
   "source": [
    "# Calculate the model's scores\n",
    "\n",
    "trng_score = model.score(X_train, y_train)\n",
    "testing_score = model.score(X_test, y_test)\n",
    "\n",
    "print(f\"Training Score: {trng_score}\")\n",
    "print(f\"Testing Score: {trng_score}\")"
   ]
  },
  {
   "cell_type": "code",
   "execution_count": null,
   "id": "01541b7b",
   "metadata": {},
   "outputs": [],
   "source": [
    "# Use the model to make predictions\n",
    "\n",
    "predicted = model.predict(X_test)"
   ]
  },
  {
   "cell_type": "code",
   "execution_count": null,
   "id": "d70e16fa",
   "metadata": {},
   "outputs": [],
   "source": [
    "# Score the predictions with mse and r2\n",
    "mse = mean_squared_error(y_test, predicted)\n",
    "r2 = r2_score(y_test, predicted)\n",
    "\n",
    "print(f\"Mean Squared Error (MSE): {mse}\")\n",
    "print(f\"R-squared (R2): {r2}\")\n",
    "\n",
    "\n",
    "predictions = model.predict(X_test[:5])\n",
    "print(f\"Predicted classes: {predictions}\")\n",
    "\n",
    "n_2025 = model.predict([[2025]])\n",
    "n_2030 = model.predict([[2030]])\n",
    "n_2035 = model.predict([[2035]])\n",
    "\n",
    "print('''''')\n",
    "print(f\"Illinois Renewable Energy Production in 2020: {int(test_df.loc[test_df['Year'] == 2020, 'production'].values[0])}\")\n",
    "\n",
    "print('''''')      \n",
    "print(f'Prediction for 2025: {int(n_2025[0][0])}')\n",
    "      \n",
    "print('''''')      \n",
    "print(f'Prediction for 2030: {int(n_2030[0][0])}')\n",
    "      \n",
    "print('''''')      \n",
    "print(f'Prediction for 2035: {int(n_2035[0][0])}')"
   ]
  },
  {
   "cell_type": "markdown",
   "id": "0cf435e3",
   "metadata": {},
   "source": [
    "<h1>Finding the Best Scores R-Squared (R2)</h1>"
   ]
  },
  {
   "cell_type": "markdown",
   "id": "0315c543",
   "metadata": {},
   "source": [
    "<h1>Current-Dollar Gross Domestic Product (GDP)</h1>"
   ]
  },
  {
   "cell_type": "markdown",
   "id": "ac666e7a",
   "metadata": {},
   "source": [
    "<h1>Population</h1>"
   ]
  },
  {
   "cell_type": "markdown",
   "id": "a0d9b825",
   "metadata": {},
   "source": [
    "<h1>Energy Price</h1>"
   ]
  },
  {
   "cell_type": "markdown",
   "id": "bffe7ff3",
   "metadata": {},
   "source": [
    "<h1>Multiple Liner Regression to Predict State Energy Difference</h1>"
   ]
  },
  {
   "cell_type": "code",
   "execution_count": null,
   "id": "15a5f150",
   "metadata": {},
   "outputs": [],
   "source": [
    "# Import the data\n",
    "pred_states_df = pd.read_csv(\"states_energy_merged.csv\")\n"
   ]
  },
  {
   "cell_type": "code",
   "execution_count": null,
   "id": "f9bd868b",
   "metadata": {},
   "outputs": [],
   "source": [
    "pred_states_df['difference'] = pred_states_df[\"production\"]- pred_states_df[\"consumption\"]"
   ]
  },
  {
   "cell_type": "code",
   "execution_count": null,
   "id": "bbd715f4",
   "metadata": {},
   "outputs": [],
   "source": [
    "# Dropping consumption column\n",
    "pred_states_df = pred_states_df.drop(['consumption'], axis=1)\n",
    "\n",
    "pred_states_df.head()"
   ]
  },
  {
   "cell_type": "code",
   "execution_count": null,
   "id": "2058ce88",
   "metadata": {},
   "outputs": [],
   "source": [
    "states = pred_states_df[\"State\"].unique()\n",
    "\n",
    "state_dicts = {}\n",
    "\n",
    "for state in states:\n",
    "\n",
    "    df = pred_states_df.loc[pred_states_df['State'] == state]\n",
    "    \n",
    "    \n",
    "    # Population #\n",
    "    #============#\n",
    "\n",
    "    X2 = df['Year'].values.reshape(-1,1)\n",
    "    y2 = df['population'].values.reshape(-1,1)\n",
    "\n",
    "\n",
    "    X2_train, X2_test, y2_train, y2_test = train_test_split(X2, y2, random_state= 42)\n",
    "\n",
    "    # Create and fit the models for each state for RP\n",
    "    model2 = LinearRegression()\n",
    "    model2.fit(X2_train, y2_train)\n",
    "\n",
    "    # Calculate the RP testing & training scores\n",
    "    trng_score = model2.score(X2_train, y2_train)\n",
    "    testing_score = model2.score(X2_test, y2_test)\n",
    "\n",
    "    # Use our models to make RP predictions\n",
    "    predicted = model2.predict(X2_test)\n",
    "\n",
    "    # Score the ep predictions with mse and r2 for each state\n",
    "    mse2 = mean_squared_error(y2_test, predicted)\n",
    "    r2 = r2_score(y2_test, predicted)\n",
    "\n",
    "    # Make predictions for RP with MLR\n",
    "    pop_predictions = []\n",
    "    for p in range(2021, 2036):\n",
    "        p_prediction = model.predict([[p]])\n",
    "        pop_predictions.append(float(p_prediction))\n",
    "        \n",
    "        \n",
    "    df = pred_states_df.loc[pred_states_df['State'] == state]  \n",
    "\n",
    "    \n",
    "     # Renewable Production #\n",
    "    #======================#\n",
    "\n",
    "    X3 = df['Year'].values.reshape(-1,1)\n",
    "    y3 = df['production'].values.reshape(-1,1)\n",
    "\n",
    "\n",
    "    X3_train, X3_test, y3_train, y3_test = train_test_split(X3, y3, random_state= 42)\n",
    "\n",
    "    # Create and fit the models for each state for RP\n",
    "    model3 = LinearRegression()\n",
    "    model3.fit(X3_train, y3_train)\n",
    "\n",
    "    # Calculate the RP testing & training scores\n",
    "    trng_score3 = model3.score(X3_train, y3_train)\n",
    "    testing_score3 = model3.score(X3_test, y3_test)\n",
    "\n",
    "    # Use our models to make RP predictions\n",
    "    predicted3 = model3.predict(X3_test)\n",
    "\n",
    "    # Score the ep predictions with mse and r2 for each state\n",
    "    mse3 = mean_squared_error(y3_test, predicted3)\n",
    "    r2 = r2_score(y3_test, predicted3)\n",
    "\n",
    "    # Make predictions for RP with MLR\n",
    "    rp_predictions = []\n",
    "    for l in range(2021, 2036):\n",
    "        l_prediction = model3.predict([[l]])\n",
    "        rp_predictions.append(float(l_prediction))\n",
    "        \n",
    "        \n",
    "     # Energy Price #\n",
    "     #==============#\n",
    "\n",
    "    X4 = df['Year'].values.reshape(-1,1)\n",
    "    y4 = df['price'].values.reshape(-1,1)\n",
    "\n",
    "\n",
    "    X4_train, X4_test, y4_train, y4_test = train_test_split(X4, y4, random_state=42)\n",
    "\n",
    "    # Create and fit the models for each state for RP\n",
    "    model4 = LinearRegression()\n",
    "    model4.fit(X4_train, y4_train)\n",
    "\n",
    "    # Calculate the RP testing & training scores\n",
    "    trng_score4 = model4.score(X4_train, y4_train)\n",
    "    testing_score4 = model4.score(X4_test, y4_test)\n",
    "\n",
    "    # Use our models to make RP predictions\n",
    "    predicted4 = model4.predict(X4_test)\n",
    "\n",
    "    # Score the ep predictions with mse and r2 for each state\n",
    "    mse4 = mean_squared_error(y4_test, predicted4)\n",
    "    r2 = r2_score(y4_test, predicted4)\n",
    "\n",
    "    # Make predictions for RP with MLR\n",
    "    ep_predictions = []\n",
    "    for d in range(2021, 2036):\n",
    "        d_prediction = model4.predict([[d]])\n",
    "        ep_predictions.append(float(d_prediction))\n",
    "        \n",
    "    \n",
    "    #  Consumption  #\n",
    "    #==============#\n",
    "\n",
    "    X5 = df['Year'].values.reshape(-1,1)\n",
    "    y5 = df['consumption'].values.reshape(-1,1)\n",
    "\n",
    "\n",
    "    X5_train, X5_test, y5_train, y5_test = train_test_split(X5, y5, random_state=42)\n",
    "\n",
    "    # Create and fit the models for each state for RP\n",
    "    model5 = LinearRegression()\n",
    "    model5.fit(X5_train, y5_train)\n",
    "\n",
    "    # Calculate the RP testing & training scores\n",
    "    trng_score5 = model5.score(X5_train, y5_train)\n",
    "    testing_score5 = model5.score(X5_test, y5_test)\n",
    "\n",
    "    # Use our models to make RP predictions\n",
    "    predicted5 = model5.predict(X5_test)\n",
    "\n",
    "    # Score the ep predictions with mse and r2 for each state\n",
    "    mse5 = mean_squared_error(y_test, predicted5)\n",
    "    r2 = r2_score(y_test, predicted5)\n",
    "\n",
    "    # Make predictions for RP with MLR\n",
    "    consume_predictions = []\n",
    "    for c in range(2021, 2036):\n",
    "        c_prediction = model5.predict([[c]])\n",
    "        consume_predictions.append(float(c_prediction))\n",
    "    \n",
    "    \n",
    "    \n",
    "    # Energy Difference #\n",
    "    #==================#\n",
    "\n",
    "    X6 = df['Year'].values.reshape(-1,1)\n",
    "    y6 = df['Difference'].values.reshape(-1,1)\n",
    "\n",
    "\n",
    "    X6_train, X6_test, y6_train, y6_test = train_test_split(X6, y6, random_state=42)\n",
    "\n",
    "    # Create and fit the models for each state for RP\n",
    "    model6 = LinearRegression()\n",
    "    model6.fit(X6_train, y6_train)\n",
    "\n",
    "    # Calculate the RP testing & training scores\n",
    "    trng_score6 = model6.score(X6_train, y6_train)\n",
    "    testing_score6 = model6.score(X6_test, y6_test)\n",
    "\n",
    "    # Use our models to make RP predictions\n",
    "    predicted6 = model6.predict(X6_test)\n",
    "\n",
    "    # Score the ep predictions with mse and r2 for each state\n",
    "    mse6 = mean_squared_error(y6_test, predicted6)\n",
    "    r2 = r2_score(y6_test, predicted6)\n",
    "\n",
    "    # Make predictions for RP with MLR\n",
    "    ed_predictions = []\n",
    "    for x in range(2021, 2036):\n",
    "        x_prediction = model6.predict([[x]])\n",
    "        ed_predictions.append(float(x_prediction))\n",
    "    \n",
    "        \n",
    "    # Update States Dictionary\n",
    "    state_dicts.update({state: {\n",
    "                        'state': list([state] * len(range(2021, 2036))),\n",
    "                        'year': list(range(2021, 2035)),\n",
    "                        'produced_renewable': rp_predictions,\n",
    "                        'population': pop_predictions,\n",
    "                        'energy_price': ep_predictions,\n",
    "                        'total_consumed': consume_predictions,\n",
    "                        'difference': ed_predictions\n",
    "                        }})\n",
    "pred_states_df\n",
    "pred_state_dicts"
   ]
  },
  {
   "cell_type": "code",
   "execution_count": null,
   "id": "f58866e7",
   "metadata": {},
   "outputs": [],
   "source": [
    "# Create Dictionary of DataFrames\n",
    "dfs = {}\n",
    "for state in pred_state_dicts:\n",
    "    dfs.update({state: pd.DataFrame(pred_state_dicts[state])})\n",
    "\n",
    "# Append new DataFrames to previous states_df\n",
    "for state in dfs:\n",
    "    pred_state_df = pred_state_df.append(dfs[state],ignore_index=True)\n",
    "\n",
    "\n",
    "pred_state_df = pred_state_df.sort_values(by=[\"State\",\"Year\"])\n",
    "pred_state_df.head()"
   ]
  },
  {
   "cell_type": "code",
   "execution_count": null,
   "id": "1c48f1e3",
   "metadata": {},
   "outputs": [],
   "source": [
    "X= pred_state_df.loc[states_df['State'] == \"Wisconsin\"]\n",
    "\n",
    "# Plot the data\n",
    "plt.scatter(X['Year'],X['Total Consumed (Bil. Btu)'])"
   ]
  },
  {
   "cell_type": "code",
   "execution_count": null,
   "id": "d49aced6",
   "metadata": {},
   "outputs": [],
   "source": [
    "pred_statess_df = pred_states_df[['State','Year','Prod. Renewable (Bil. Btu)','Pop. (1000s)','Energy Pr. ($/mil. btu)',\n",
    "                       'Total Consumed (Bil. Btu)','Difference']]"
   ]
  },
  {
   "cell_type": "code",
   "execution_count": null,
   "id": "7a4c1e08",
   "metadata": {},
   "outputs": [],
   "source": [
    "states_df.to_csv('\"Resources/&&&&&&&&&.csv\"', float_format='%.1f')"
   ]
  }
 ],
 "metadata": {
  "kernelspec": {
   "display_name": "Python [conda env:.conda-PythonData38] *",
   "language": "python",
   "name": "conda-env-.conda-PythonData38-py"
  },
  "language_info": {
   "codemirror_mode": {
    "name": "ipython",
    "version": 3
   },
   "file_extension": ".py",
   "mimetype": "text/x-python",
   "name": "python",
   "nbconvert_exporter": "python",
   "pygments_lexer": "ipython3",
   "version": "3.8.12"
  }
 },
 "nbformat": 4,
 "nbformat_minor": 5
}
